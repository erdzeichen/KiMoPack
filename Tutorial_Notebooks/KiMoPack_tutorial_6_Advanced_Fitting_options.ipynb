{
 "cells": [
  {
   "cell_type": "markdown",
   "metadata": {
    "slideshow": {
     "slide_type": ""
    },
    "tags": []
   },
   "source": [
    "# Introduction\n",
    "\n",
    "This notebook is a more compact introduction to the advanced analysis using KiMoPack.<br>\n",
    "It was developed to support a live workshop.\n",
    "\n",
    "We will go through the following steps:\n",
    "\n",
    "1. Data Import (here we actually create the data)\n",
    "2. Data Shaping + Plotting\n",
    "3. (Optional) comparative analysis\n",
    "4. Modelling\n",
    "5. Reporting"
   ]
  },
  {
   "cell_type": "code",
   "execution_count": null,
   "metadata": {
    "slideshow": {
     "slide_type": ""
    },
    "tags": []
   },
   "outputs": [],
   "source": [
    "import os,sys\n",
    "import KiMoPack.plot_func as pf\n",
    "import pandas as pd\n",
    "import numpy as np\n",
    "import matplotlib,lmfit\n",
    "import matplotlib.pyplot as plt\n",
    "from importlib import reload\n",
    "reload(pf)\n",
    "path_to_files = os.sep.join([os.getcwd(), \"Data\", \"Introduction\"])\n",
    "pf.changefonts()\n",
    "%matplotlib qt\n",
    "\n",
    "if 1: # if the warnings annoy you.\n",
    "    import sys\n",
    "    if not sys.warnoptions:\n",
    "        import warnings\n",
    "        warnings.simplefilter(\"ignore\")\n",
    "\n",
    "FWHM=2.35482"
   ]
  },
  {
   "cell_type": "code",
   "execution_count": null,
   "metadata": {
    "slideshow": {
     "slide_type": ""
    },
    "tags": []
   },
   "outputs": [],
   "source": [
    "try:\n",
    "    #ta=pf.TA(\"gui\") #lazy option\n",
    "    ta=pf.TA(\"con_1.SIA\",path=path_to_files)\n",
    "except Exception as e: \n",
    "    print('The loading failed, are you using the right format and file location. Check the last cell in this notebook for help.')"
   ]
  },
  {
   "cell_type": "markdown",
   "metadata": {
    "slideshow": {
     "slide_type": ""
    },
    "tags": []
   },
   "source": [
    "If no errors appear, the import was most likely successful, and we can continue with the inspection and shaping of data. <br> \n",
    "If there are troubles during or the data does not look like it should, the imported data is stored in the DataFrame **ta.ds_ori**  <br> \n",
    "and checking if this looks correct with \"ta.ds_ori.head()\" is a very good first step for finding the right input parameters.<br>\n",
    "See the very last cells in this notebook for more help."
   ]
  },
  {
   "cell_type": "code",
   "execution_count": null,
   "metadata": {},
   "outputs": [],
   "source": []
  },
  {
   "cell_type": "markdown",
   "metadata": {},
   "source": [
    "## Data Inspection, shaping and RAW plotting\n",
    "The first step is usually to visually inspect the data. <br> \n",
    "In KiMoPack we use three plotting functions for all plotting tasks and three functions for comparative plotting (see Tutorial 3)\n",
    "``` python\n",
    "ta.Plot_RAW()\n",
    "ta.Plot_fit_output()\n",
    "ta.Plot_Interactive()\n",
    "```\n",
    "All plot functions plot in their standard call (as above) multiple plots simultaneously. <br> \n",
    "The first argument is a list that calls all the plots that one chooses. For RAW plotting the default is:\n",
    "``` python\n",
    "ta.Plot_RAW(range(4))\n",
    "```\n",
    "\n",
    "Here we choose to only look at the Matrix, which is plot \"0\" (see the documentation with \"ta.Plot_RAW?\" or https://kimopack.readthedocs.io/en/latest/Plotting.html"
   ]
  },
  {
   "cell_type": "code",
   "execution_count": null,
   "metadata": {
    "slideshow": {
     "slide_type": ""
    },
    "tags": []
   },
   "outputs": [],
   "source": [
    "%matplotlib qt\n",
    "ta.bordercut=[400,975]\n",
    "ta.timelimits=[-0.2,500]\n",
    "ta.Plot_RAW(0)"
   ]
  },
  {
   "cell_type": "markdown",
   "metadata": {
    "slideshow": {
     "slide_type": ""
    },
    "tags": []
   },
   "source": [
    "And set the interesting wavelength and time points where we want the code to plot Kinetics and spectra respectively. e"
   ]
  },
  {
   "cell_type": "markdown",
   "metadata": {
    "slideshow": {
     "slide_type": ""
    },
    "tags": []
   },
   "source": [
    "During the import these values are set automatically:\n",
    "``` python\n",
    "ta.rel_wave = np.arange(300,1000,100)                        #standard\n",
    "ta.rel_time = [0.2,0.3,0.5,1,3,10,30,100,300,1000,3000,9000] #standard\n",
    "```\n",
    "GUI (released soon)\n",
    "\n",
    "The parameter \"wavelength_bin\" set the width of the spectral bins. The parameter \"time_width_percent\" sets a percentual binning for the times.\n",
    "additional shaping options include rebinning in the spectral range \"wave_nm_bin\" or in energy scale \"equal_energy_bin\". See:<br>\n",
    "https://kimopack.readthedocs.io/en/latest/Plotting.html#plot-shaping-options-without-influence-on-the-fitting and<br>\n",
    "https://kimopack.readthedocs.io/en/latest/Shaping.html for more details"
   ]
  },
  {
   "cell_type": "code",
   "execution_count": null,
   "metadata": {
    "slideshow": {
     "slide_type": ""
    },
    "tags": []
   },
   "outputs": [],
   "source": [
    "ta()"
   ]
  },
  {
   "cell_type": "markdown",
   "metadata": {},
   "source": [
    "### Create spectra"
   ]
  },
  {
   "cell_type": "code",
   "execution_count": null,
   "metadata": {},
   "outputs": [],
   "source": [
    "def gauss(t,sigma=0.1,mu=0,scale=1):\n",
    "\ty=np.exp(-0.5*((t-mu)**2)/sigma**2)\n",
    "\ty/=sigma*np.sqrt(2*np.pi)\n",
    "\treturn y*scale\n",
    "\n",
    "x=np.arange(300,1100,2)\n",
    "lines={'GS':(550,50,2),'A':(800,60,1),'B':(600,50,1),'C':(750,70,1)}\n",
    "df1=pd.concat([pd.DataFrame(gauss(x,sigma=lines[key][1],mu=lines[key][0],scale=lines[key][2]),index=x,columns=[key]) for key in lines.keys()],axis=1)\n",
    "lines={'GS':(420,40,0.5),'A':(900,40,0.5),'B':(700,40,0.5),'C':(400,60,1)}\n",
    "df2=pd.concat([pd.DataFrame(gauss(x,sigma=lines[key][1],mu=lines[key][0],scale=lines[key][2]),index=x,columns=[key]) for key in lines.keys()],axis=1)\n",
    "df=df1+df2\n",
    "df.plot()"
   ]
  },
  {
   "cell_type": "markdown",
   "metadata": {},
   "source": [
    "### create kinetics with spectra\n",
    "\n",
    "Idea: \n",
    "\n",
    "* We have defined the spectra for each species (Named A,B,C and the groundstate\n",
    "* Now we create three distinct experiments where one of the reactions steps **$k_2$** has three different rates\n",
    "* We assign the previously created spectra to the species and store all in the list ta_list\n",
    "* The If=0 conditions at the end enables/disables the option to save the generated kinetics and reload them from disk. This shows how you would load the data from disk for your own projects."
   ]
  },
  {
   "cell_type": "code",
   "execution_count": null,
   "metadata": {},
   "outputs": [],
   "source": [
    "import function_library as func\n",
    "reload(func)\n",
    "ta.mod=func.P13\n",
    "\n",
    "par=lmfit.Parameters()                                       # create empty parameter object\n",
    "par.add('k0',value=1/2,vary=True)                  \n",
    "par.add('k1',value=1/10,vary=True)             \n",
    "par.add('k2',value=1/4,vary=True)\n",
    "par.add('k3',value=1/4,vary=True)                    \n",
    "par.add('t0',value=0,min=-2,max=2,vary=True)                       # Allow the arrival time to adjust? (False here)\n",
    "par.add('resolution',value=0.086081,min=0.04,max=0.5,vary=False)       # Allow the instrument response to adjust (False here)\n",
    "par.add('explicit_GS')\n",
    "\n",
    "for key in par.keys():\n",
    "    par[key].vary=False\n",
    "ta.par=par\n",
    "\n",
    "plt.close('all')\n",
    "ta_list=[]\n",
    "for a in [1,5,25]:\n",
    "    ta1=ta.Copy()\n",
    "    ta1.filename='r2 x %i'%a\n",
    "    ta1.par['k2'].value=par['k2'].value*a\n",
    "    ta1.Fit_Global(ext_spectra=df)\n",
    "    ta1.ds=ta1.re['AC']+ta1.re['AC'].max().max()*np.random.normal(scale=1e-2,size=ta1.re['AC'].shape)\n",
    "    ta1.factor=a\n",
    "    ta_list.append(ta1)\n",
    "    ta1.intensity_range=7e-3\n",
    "    #ta1.Plot_RAW(0)\n",
    "if 0:\n",
    "    for ta in ta_list:\n",
    "        ta.Save_project()\n",
    "    ta_list=pf.GUI_open(project_list=['r2 x 1.hdf5','r2 x 25.hdf5','r2 x 5.hdf5'],path=path_to_files)\n",
    "ta=ta_list[0].Copy()"
   ]
  },
  {
   "cell_type": "markdown",
   "metadata": {},
   "source": [
    "### Compare the data"
   ]
  },
  {
   "cell_type": "code",
   "execution_count": null,
   "metadata": {},
   "outputs": [],
   "source": [
    "plt.close('all')\n",
    "ta.Compare_at_time(other=ta_list[1:],rel_time=1)\n",
    "window=[0.7,1.3,545,555]\n",
    "ta.Compare_at_time(other=ta_list[1:],rel_time=1,norm_window=window)\n",
    "ta.Compare_at_time(other=ta_list[1:],rel_time=10,norm_window=window)"
   ]
  },
  {
   "cell_type": "code",
   "execution_count": null,
   "metadata": {},
   "outputs": [],
   "source": [
    "ta.Compare_at_wave(other=ta_list[1:],rel_wave=[900])\n",
    "window=[0.1,0.2,780,820]\n",
    "ta.Compare_at_wave(other=ta_list[1:],rel_wave=[900],norm_window=window)"
   ]
  },
  {
   "cell_type": "markdown",
   "metadata": {},
   "source": [
    "### Fitting a single spectrum"
   ]
  },
  {
   "cell_type": "code",
   "execution_count": null,
   "metadata": {},
   "outputs": [],
   "source": [
    "par=lmfit.Parameters()                                    # create empty parameter object\n",
    "par.add('k0',value=1/2,vary=True)                  \n",
    "par.add('k1',value=1/10,vary=True)             \n",
    "par.add('k2',value=1/4,vary=True)\n",
    "par.add('k3',value=1/4,vary=True)                    \n",
    "par.add('t0',value=0,min=-2,max=2,vary=True)                       # Allow the arrival time to adjust? (False here)\n",
    "par.add('resolution',value=0.086081,min=0.04,max=0.5,vary=False)       # Allow the instrument response to adjust (False here)\n",
    "par.add('explicit_GS')\n",
    "ta.par=par\n",
    "ta.mod=func.P13\n",
    "ta.Fit_Global(ext_spectra=df)\n",
    "ta.Plot_fit_output()"
   ]
  },
  {
   "cell_type": "markdown",
   "metadata": {},
   "source": [
    "### Copy paste fit function and make small adjustments"
   ]
  },
  {
   "cell_type": "code",
   "execution_count": null,
   "metadata": {},
   "outputs": [],
   "source": [
    "def P13_split(times,pardf):\t\t\t\t\t\t\t\t\n",
    "\t'''P13 with splitting'''\n",
    "\tc=np.zeros((len(times),4),dtype='float') \t\t\t\t\t\t#creation of matrix that will hold the concentrations\n",
    "\tg=gauss(times,sigma=pardf['resolution']/FWHM,mu=pardf['t0']) \t#creating the gaussian pulse that will \"excite\" our sample\n",
    "\tif 'sub_steps' in list(pardf.index.values):\n",
    "\t\tsub_steps=pardf['sub_steps']\n",
    "\telse:\n",
    "\t\tsub_steps=10  \t\t\t\t\t\t\t\t\t\t\t\t\t#defining how many extra steps will be taken between the main time_points\n",
    "\tfor i in range(1,len(times)):\t\t\t\t\t\t\t\t\t#iterate over all timepoints\n",
    "\t\tdc=np.zeros(4,dtype='float')\t\t\t\t\t\t\t#the initial change for each concentration, the \"3\" is representative of how many changes there will be\n",
    "\t\tdt=(times[i]-times[i-1])/(sub_steps)\t\t\t\t\t\t# as we are taking smaller steps the time intervals need to be adapted\n",
    "\t\tc_temp=c[i-1,:]\t\t\t\t\t\t\t\t\t\t\t\t#temporary matrix holding the changes (needed as we have sub steps and need to check for zero in the end)\n",
    "\t\tfor j in range(int(sub_steps)):\n",
    "\t\t\tdc[0]=-pardf['k0']*dt*c_temp[0]-pardf['k2']*pardf['f0']*dt*c_temp[0]+g[i]*dt\t\t\n",
    "\t\t\tdc[1]=pardf['k0']*dt*c_temp[0]-pardf['k1']*dt*c_temp[1]\n",
    "\t\t\tdc[2]=pardf['k2']*pardf['f0']*dt*c_temp[0]-pardf['k3']*dt*c_temp[2]\n",
    "\t\t\tdc[3]=pardf['k1']*dt*c_temp[1]+pardf['k3']*dt*c_temp[2]\n",
    "\t\t\tc_temp=c_temp+dc\n",
    "\t\t\tc_temp[c_temp<0]=0\n",
    "\t\tc[i,:] =c_temp\t\t\t\t\t\t\t\t\t\t\t\t#store the temporary concentrations into the main matrix\n",
    "\tc=pandas.DataFrame(c,index=times)\t\t\t\t\t\t\t\t#write back the right indexes\n",
    "\tc.index.name='time'\t\t\t\t\t\t\t\t\t\t\t\t#and give it a name\n",
    "\tc.columns=['A','B','C','Inf']\t\t\t\t\t\t\t\t\t#this is optional but very useful. The species get names that represent some particular states\n",
    "\tif not 'infinite' in list(pardf.index.values):\n",
    "\t\tc.drop('Inf',axis=1,inplace=True)\n",
    "\tif 'explicit_GS' in list(pardf.index.values):\n",
    "\t\tc['GS']=-c.sum(axis=1)\n",
    "\tif 'background' in list(pardf.index.values):\t\t\t\t\t#optional but usefull, allow the keyword \"background\" to be used to fit the background in the global analysis\n",
    "\t\tc['background']=1\t\t\t\t\t\t\t\t\t\t\t#background always there (flat)\n",
    "\treturn c"
   ]
  },
  {
   "cell_type": "markdown",
   "metadata": {},
   "source": [
    "### Adding the parameters"
   ]
  },
  {
   "cell_type": "code",
   "execution_count": null,
   "metadata": {},
   "outputs": [],
   "source": [
    "df_GS=pd.DataFrame(df.loc[:,'GS'])\n",
    "df_GS.plot()"
   ]
  },
  {
   "cell_type": "code",
   "execution_count": null,
   "metadata": {},
   "outputs": [],
   "source": [
    "par=lmfit.Parameters()                                       # create empty parameter object\n",
    "par.add('k0',value=1/2,vary=True)                  \n",
    "par.add('k1',value=1/40,vary=True)             \n",
    "par.add('k2',value=1/4,vary=True)\n",
    "par.add('k3',value=1/4,vary=True)                    \n",
    "par.add('t0',value=0,min=-2,max=2,vary=True)                       # Allow the arrival time to adjust? (False here)\n",
    "par.add('resolution',value=0.086081,min=0.04,max=0.5,vary=False)       # Allow the instrument response to adjust (False here)\n",
    "par.add('explicit_GS')\n",
    "ta.par=par\n",
    "\n",
    "ta_list=[]\n",
    "for a in [1,5,25]:\n",
    "    ta1=ta.Copy()\n",
    "    ta1.par=par\n",
    "    ta1.par.add('f0',value=a,vary=True)\n",
    "    ta1.filename='r2 x %i'%a\n",
    "    ta_list.append(ta1)\n",
    "\n",
    "ta1=ta_list[0]\n",
    "plt.close('all')\n",
    "if 1: #run now\n",
    "    ta1.Fit_Global(multi_project=ta_list[1:],unique_parameter=['f0'],same_DAS=True,ext_spectra=df_GS)\n",
    "    ta1.Save_project(filename='saved_fit_same_DAS.hdf5')\n",
    "else:  #load saved project\n",
    "    ta1=pf.TA('saved_fit_same_DAS.hdf5', path=path_to_files)\n",
    "    \n",
    "ta1.Plot_fit_output(0,title='combined fitting')\n"
   ]
  },
  {
   "cell_type": "code",
   "execution_count": null,
   "metadata": {},
   "outputs": [],
   "source": [
    "plt.close('all')\n",
    "for re in ta1.multi_projects:\n",
    "    ta1.re=re\n",
    "    ta1.Plot_fit_output(4)\n",
    "    ta1.re=ta1.multi_projects[0]"
   ]
  },
  {
   "cell_type": "code",
   "execution_count": null,
   "metadata": {},
   "outputs": [],
   "source": [
    "ta_sep=ta1.Copy()\n",
    "if 1: #run now\n",
    "    ta_sep.Fit_Global(multi_project=ta_list[1:],unique_parameter=['f0'],same_DAS=False,ext_spectra=df_GS)\n",
    "    ta_sep.Save_project(filename='saved_fit_different_DAS.hdf5')\n",
    "else: #load previous project\n",
    "    ta_sep=pf.TA('saved_fit_different_DAS.hdf5',path=path_to_files)\n",
    "ta_sep.Plot_fit_output(0,title='combined fitting different DAS')"
   ]
  },
  {
   "cell_type": "code",
   "execution_count": null,
   "metadata": {},
   "outputs": [],
   "source": [
    "plt.close('all')\n",
    "for re in ta_sep.multi_projects:\n",
    "    ta_sep.re=re\n",
    "    ta_sep.Plot_fit_output(4)\n",
    "    ta_sep.re=ta_sep.multi_projects[0]"
   ]
  },
  {
   "cell_type": "markdown",
   "metadata": {},
   "source": [
    "Important, same_DAS does a lot! With same_DAS=True the spectra are coupled (stacked), without each is fitted independently.\n",
    "\n",
    "There are a number of additional parameter that one should consider\n",
    "* **weights** (needed for e.g. different pump powers)\n",
    "* **same_shape_params** (needed if different techniques)\n"
   ]
  },
  {
   "cell_type": "markdown",
   "metadata": {},
   "source": [
    "## Let's look on some oscillations"
   ]
  },
  {
   "cell_type": "code",
   "execution_count": null,
   "metadata": {
    "slideshow": {
     "slide_type": ""
    },
    "tags": []
   },
   "outputs": [],
   "source": [
    "ta1=pf.TA('con_6.SIA',path=path_to_files)\n",
    "chirp=[-1.29781491e-11,4.72546618e-08,-6.36421133e-05,3.77396295e-02,-8.08783621e+00]\n",
    "ta1.Cor_Chirp(fitcoeff=chirp)\n",
    "\n",
    "ta1.intensity_range=0.005\n",
    "ta1.log_scale=False\n",
    "ta1.timelimits=[-0.2,500]\n",
    "ta1.bordercut=[390,1150]\n",
    "ta1.scattercut=[525,580]\n",
    "ta1.rel_wave=[430,487,525,640,720,820,900,950]\n",
    "ta1.rel_time=[-0.1,-0.02,0.035,0.2,0.5,2,14,22,92,160]\n",
    "ta1.ignore_time_region=[-0.15,0.1]\n",
    "ta1.Plot_RAW(0)"
   ]
  },
  {
   "cell_type": "code",
   "execution_count": null,
   "metadata": {
    "scrolled": true,
    "slideshow": {
     "slide_type": ""
    },
    "tags": []
   },
   "outputs": [],
   "source": [
    "ta1.mod='full_consecutive'    \n",
    "par=lmfit.Parameters()                                       # create empty parameter object\n",
    "par.add('k0',value=1/0.100143,vary=True)                  \n",
    "par.add('k1',value=1/2.496702,vary=True)             \n",
    "par.add('k2',value=1/39.963222,vary=True)   \n",
    "par.add('t0',value=0,min=-2,max=2,vary=False)                       # Allow the arrival time to adjust? (False here)\n",
    "par.add('resolution',value=0.086081,min=0.04,max=0.5,vary=False)\n",
    "par.add('explicit_GS')\n",
    "ta1.par=par\n",
    " \n",
    "ta1.Fit_Global()\n",
    "ta1.Plot_fit_output([0,4])"
   ]
  },
  {
   "cell_type": "markdown",
   "metadata": {
    "slideshow": {
     "slide_type": ""
    },
    "tags": []
   },
   "source": [
    "Now we have the main Kinetics and can subtract them. Here simply use the residuals as the next matrix to be fitted and adjust the shaping parameters"
   ]
  },
  {
   "cell_type": "code",
   "execution_count": null,
   "metadata": {
    "slideshow": {
     "slide_type": ""
    },
    "tags": []
   },
   "outputs": [],
   "source": [
    "ta2=ta1.Copy()\n",
    "ta2.ds=ta1.re['AE']\n",
    "\n",
    "ta2.intensity_range=3e-4\n",
    "ta2.rel_wave=[620,700,740,800,830,860]\n",
    "ta2.timelimits=[0.1,10]\n",
    "ta2.Plot_RAW(0,scale_type='linear')"
   ]
  },
  {
   "cell_type": "markdown",
   "metadata": {
    "slideshow": {
     "slide_type": ""
    },
    "tags": []
   },
   "source": [
    "As an alternative one could have subtracted all (or some) of the contributions using this approach:\n",
    "``` python\n",
    "    dicten=pf.Species_Spectra(ta1) # Extract each of the species as a matrix\n",
    "    ta3=ta1.Copy()                 # Make a copy of the project to test\n",
    "    ta3.ds=ta1.re['A']-dicten[1]-dicten[2]-dicten['GS'] #subtract one or multiple of the species.\n",
    "```\n",
    "\n",
    "Now we load the function file and select a model from it. <br>\n",
    "Optimizing follows the same procedure"
   ]
  },
  {
   "cell_type": "code",
   "execution_count": null,
   "metadata": {
    "slideshow": {
     "slide_type": ""
    },
    "tags": []
   },
   "outputs": [],
   "source": [
    "import function_library as func\n",
    "ta2.mod=func.oscil_comp   "
   ]
  },
  {
   "cell_type": "code",
   "execution_count": null,
   "metadata": {
    "slideshow": {
     "slide_type": ""
    },
    "tags": []
   },
   "outputs": [],
   "source": [
    "par=lmfit.Parameters()                                       # create empty parameter object\n",
    "par.add('f0',value=1.00561,vary=True)                  \n",
    "par.add('tk0',value=1/2.8725,vary=True,min=1/4,max=4)\n",
    "par.add('S0',value=0.975956,vary=True ,min=0,max=1)\n",
    "ta2.par=par\n",
    "ta2.ignore_time_region=[-0.15,0.25]\n",
    "#ta2.Fit_Global(other_optimizers='least_squares')\n",
    "ta2.Fit_Global()\n",
    "\n",
    "plt.close('all')\n",
    "ta2.error_matrix_amplification=1\n",
    "ta2.Plot_fit_output([0,4],scale_type='linear')"
   ]
  },
  {
   "cell_type": "markdown",
   "metadata": {
    "slideshow": {
     "slide_type": ""
    },
    "tags": []
   },
   "source": [
    "As does calculating the errors"
   ]
  },
  {
   "cell_type": "code",
   "execution_count": null,
   "metadata": {
    "slideshow": {
     "slide_type": ""
    },
    "tags": []
   },
   "outputs": [],
   "source": [
    "#This takes about 2min\n",
    "#ta2.Fit_Global(confidence_level=0.95)\n",
    "\n",
    "ta2=pf.TA('Fitted_Oscillations_with_confidence.hdf5',path=path_to_files)\n",
    "ta2.Print_Results()"
   ]
  },
  {
   "cell_type": "markdown",
   "metadata": {
    "slideshow": {
     "slide_type": ""
    },
    "tags": []
   },
   "source": [
    "Finally  we combine the normal model and the oscillation model and make a combined fit."
   ]
  },
  {
   "cell_type": "code",
   "execution_count": null,
   "metadata": {
    "slideshow": {
     "slide_type": ""
    },
    "tags": []
   },
   "outputs": [],
   "source": [
    "reload(func)\n",
    "ta1.mod=func.manconsec_oscil\n",
    "ta1.par=ta1.par_fit\n",
    "for key in ['f0','tk0','S0']:\n",
    "    ta1.par.add(key,value=ta2.par_fit[key].value)\n",
    "    ta1.par[key].vary=False\n",
    "ta1.par['S0'].min=0\n",
    "ta1.par['S0'].max=1\n",
    "ta1.Fit_Global()\n",
    "ta1.Plot_fit_output()"
   ]
  },
  {
   "cell_type": "markdown",
   "metadata": {},
   "source": [
    "(loading_error)=\n",
    "# If errors occur during the loading.\n",
    "\n",
    "The most likely your file format is wrong. There are many options you could sonsider and in general I would like to point to the documentation for opening https://kimopack.readthedocs.io/en/latest/Opening.html\n",
    "\n",
    "A good option is to inspect files that cause an error when opening. Look for\n",
    "\n",
    "* separation of numbers (\",\" or \";\" or \"\\\\t\")\n",
    "* if the time is the first number in each column\n",
    "* if the wavelength are the very first row\n",
    "* if the decimalplace is separated with a \".\" or a \",\""
   ]
  },
  {
   "cell_type": "code",
   "execution_count": null,
   "metadata": {},
   "outputs": [],
   "source": [
    "filename='con_1.SIA'\n",
    "path_to_files = os.sep.join([os.getcwd(), \"Data\", \"Introduction\"])\n",
    "print('the files should be here:')\n",
    "print(path_to_files)\n",
    "\n",
    "from IPython.display import display, Markdown\n",
    "with open(path_to_files + os.sep + filename, 'r', encoding='utf-8') as f:\n",
    "    for i in range(5):  # Change the range for more/less lines\n",
    "        line = f.readline()\n",
    "        print(repr(line))"
   ]
  },
  {
   "cell_type": "code",
   "execution_count": null,
   "metadata": {},
   "outputs": [],
   "source": []
  }
 ],
 "metadata": {
  "ipub": {
   "titlepage": {
    "author": "Jens Uhlig",
    "email": "jens.uhlig@chemphys.lu.se",
    "logo": "http://www.jensuhlig.de//hot_warm_cold.png",
    "subtitle": "Main Worksheet",
    "title": "Transient Absorption Worksheet"
   }
  },
  "kernelspec": {
   "display_name": "Python 3 (ipykernel)",
   "language": "python",
   "name": "python3"
  },
  "language_info": {
   "codemirror_mode": {
    "name": "ipython",
    "version": 3
   },
   "file_extension": ".py",
   "mimetype": "text/x-python",
   "name": "python",
   "nbconvert_exporter": "python",
   "pygments_lexer": "ipython3",
   "version": "3.12.3"
  }
 },
 "nbformat": 4,
 "nbformat_minor": 4
}
