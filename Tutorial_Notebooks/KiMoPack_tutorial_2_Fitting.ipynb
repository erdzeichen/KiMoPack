{
 "cells": [
  {
   "cell_type": "markdown",
   "metadata": {},
   "source": [
    "# Adavanced Kinetic Modeling\n",
    "## Target analysis $-$ Defining an own kinetic model"
   ]
  },
  {
   "cell_type": "code",
   "execution_count": null,
   "metadata": {},
   "outputs": [],
   "source": [
    "import os,sys\n",
    "import pandas as pd\n",
    "import numpy as np\n",
    "import matplotlib,lmfit\n",
    "import matplotlib.pyplot as plt\n",
    "try:\n",
    "    import KiMoPack.plot_func as pf\n",
    "except:\n",
    "    print(\"General installation did not work, import from the same folder as a workaround\")\n",
    "    import plot_func as pf\n",
    "%matplotlib tk\n",
    "#change this line to \n",
    "#   %matplotlib qt \n",
    "#if you have qt installed"
   ]
  },
  {
   "cell_type": "markdown",
   "metadata": {},
   "source": [
    "## 1) Import data"
   ]
  },
  {
   "cell_type": "code",
   "execution_count": null,
   "metadata": {},
   "outputs": [],
   "source": [
    "solvent = 'ACN' #'DCM' or 'H2O'\n",
    "\n",
    "filename = 'TA_Ru-dppz_400nm_'+str(solvent)                # set name of the file to fit\n",
    "filepath = os.path.join(os.getcwd(), 'Data', 'Fitting-2')  # set path to file to fit\n",
    "\n",
    "ta=pf.TA(filename=filename+'.SIA',    # title of the measurement file\n",
    "         path=filepath)               # path to measuremnt file\n",
    "\n",
    "#Alternative:\n",
    "# ta=pf.TA('gui')   #and navigate to the corresponding file"
   ]
  },
  {
   "cell_type": "markdown",
   "metadata": {},
   "source": [
    "## 2) Standard corrections"
   ]
  },
  {
   "cell_type": "code",
   "execution_count": null,
   "metadata": {},
   "outputs": [],
   "source": [
    "ta.Filter_data(value=20,replace_bad_values=0)   # remove artificial values\n",
    "ta.Background(uplimit=-0.5)             # subtract background before time zero\n",
    "ta.Cor_Chirp(shown_window=[-2.3,1.8])   # choose time-window used in the active plot"
   ]
  },
  {
   "cell_type": "markdown",
   "metadata": {},
   "source": [
    "## 3) Plot pre-processed data\n",
    "\n",
    "In this example the pre-processed data is visualized in three plots (as indicated in the titles), \n",
    "\n",
    "1. as kinetic traces (x: $\\Delta{}t$, y: $\\Delta$Absorbance)\n",
    "2. transient spectra (x: $\\lambda_{probe}$, y: $\\Delta$Absorbance)\n",
    "3. 2D-contour plot (x: $\\lambda_{probe}$, y: $\\Delta{}t$, z: $\\Delta$Absorbance). \n",
    "\n",
    "Several features can be used to alter the appearance of those plots (see Documentation or type ```ta.Plot?``` in the notebook). \n",
    "\n",
    "* The parameters ```rel_time``` and ```rel_wave``` are used to pre-select interesting $\\Delta{}t$ and $\\lambda_{probe}$ values to show specific kinetic traces (```plotting=1```) or transient spectra (```plotting=2```)  of the dataset. \n",
    "* The parameters ```timelimits```, ```bordercut``` and ```intensity_range``` are specified to control the displayed region, by specifying upper and lower limits of delay times, probe wavelengths and TA signal intensities, respectively. \n",
    "* The scale of the TA signals can be changed to a logarithmic scaling using \\code{log\\_scale=True}.  \n",
    "* The ```scattercut``` argument takes a probe wavelength interval that is ignored (set to zero) in the plots, to suppress the plotting of scattered excitation light. Here the scatter region was found to be between 380 and 405 nm (excitation at 400 nm).\n",
    "* The ```time_width_percent``` variable is set to 5%, meaning that the transient spectra are shown at the given delay time plus/minus 5% of that value (e.g. 0.522 ps means 0.5 to 0.55 ps). The respective range is indicated in the legend of the transient spectra. In all plots the unfitted data is plotted as dots, interpolated with lines (Savitzky-Golay)."
   ]
  },
  {
   "cell_type": "code",
   "execution_count": null,
   "metadata": {},
   "outputs": [],
   "source": [
    "ta.rel_time=[0.5,1.5,20,100,1000]  # certain delay times for TA spectra plot\n",
    "ta.rel_wave=[350,440,520,600]      # certain probe wavelengths for kinetic traces plot \n",
    "ta.timelimits=[-1,1400]            # plotted delay time range\n",
    "ta.bordercut=[320,770]             # plotted probe wavelength range\n",
    "ta.intensity_range=[-55e-3,55e-3]  # plotted intensity range\n",
    "ta.scattercut=[378,407]            # ignored probe wavelength region (set to zero)\n",
    "ta.time_width_percent=5            # number in percent defining a delay time region \n",
    "                                   # plotted in the TA spectra\n",
    "\n",
    "ta.Plot_RAW(title='Kinetic traces at selected probe wavelengths', plotting=1)\n",
    "ta.Plot_RAW(title='TA spectra at selected delay-times', plotting=2)\n",
    "ta.Plot_RAW(title='2D-Plot', plotting=0)"
   ]
  },
  {
   "cell_type": "markdown",
   "metadata": {},
   "source": [
    "## 4) Fitting of the data \n",
    "\n",
    "### 4a) Global analysis $-$ parallel Model\n",
    "\n",
    "Upon photoexcitation of [(tbbpy)$_2$Ru(dppz)]$^{2+}$ (**Ru-dppz**) at 400 nm an ensemble of metal-to-ligand charge-transfer (MLCT) states localized in both ligand spheres, *i.e.*, $^1$MLCT$_{tbbpy}$ and $^1$MLCT$_{dppz}$ is populated. Extensive photophysical studies revealed that the subsequent excited state dynamics is determined by the polarity and hydrogen bond donor ability of the surrounding solvent molecules. It was found that long-lived emissive states are populated in polar aprotic solvents. However, this emission switches *off* when the molecules interact with water. This interesting property is based on a solvent sensitive excited state equilibrium between a non-emissive and an emissive state localized on the phenazine (phz) and phenanthroline (phen) moiety of the dppz ligand. \n",
    "\n",
    "Extensive photophysical studies in acetonitrile revealed that due to the stabiization of the charge-transfer excited states, the *dark* phz-centered state is formed from the *bright* $^3$MLCT$_{phen}$ state and decays back to the ground state on the sub-ns timescale. This formation of a long-lived long-lived $^3$MLCT$_{phen}$ state is manifested, *i.e.*, in the spectral changes at 340 and 580 nm, which can be quantitatively described by two characteristic time-constants: the first one associated with  intersystem crossing, vibrational cooling and interligand hopping and a second one attributed to the non-radiative decay of a subset of $^3$MLCT states with excess electron density on the phenazine sphere of the dppz ligand ($^3$MLCT$_{phz}$), ultimately populating the long-lived $^3$MLCT$_{phen}$ state. Hence, the three kinetic parameters ```k0```, ```k1``` and ```k2``` are added to the the parameter object. The value for ```k2``` is fixed to 180 ns as obtained from nanosecond time-resolved studies.\n",
    "\n",
    "![Schematic sketch of the parallel model](img/Fig1_parallel_model.png \"Parallel Model\")"
   ]
  },
  {
   "cell_type": "code",
   "execution_count": null,
   "metadata": {},
   "outputs": [],
   "source": [
    "# Define fit parameters\n",
    "ta.par=lmfit.Parameters()\n",
    "# rate constants\n",
    "ta.par.add('k0',value=1/2, min=1/10.0, max=1/0.25, vary=True)    \n",
    "ta.par.add('k1',value=1/150, min=1/200.0, max=1/10.0, vary=True)     \n",
    "ta.par.add('k2',value=1/100000, vary=False)                         \n",
    "\n",
    "# time-zero parameter fixed during fit\n",
    "ta.par.add('t0',value=0.0, min=-0.1, max=0.1, vary=False)   \n",
    "\n",
    "# pump-pulse width parameter fixed during fit\n",
    "ta.par.add('resolution', value=0.12, min=0.04, max=0.20, vary=False) \n",
    "\n",
    "# Select a in-build model (here: independent parallel decay)\n",
    "ta.mod='exponential'        \n",
    "\n",
    "# set delay-time range for fit\n",
    "ta.timelimits=[0.35,2000]   \n",
    "\n",
    "# global lifetime analysis (kinetic modeling)\n",
    "ta.Fit_Global()"
   ]
  },
  {
   "cell_type": "markdown",
   "metadata": {},
   "source": [
    "### 4a) Repeat the global analysis to estimate the errors "
   ]
  },
  {
   "cell_type": "code",
   "execution_count": null,
   "metadata": {},
   "outputs": [],
   "source": [
    "# fit-error estimation in a confidence interval of 95%\n",
    "ta.Fit_Global(confidence_level=0.95) "
   ]
  },
  {
   "cell_type": "markdown",
   "metadata": {},
   "source": [
    "### Plotting of error Analysis (advanced handling)\n",
    "Plotting of the results of the error analysis is challenging and due to the potential large amount of combinations not possible to perform automatic. However here is an example on a single parameter"
   ]
  },
  {
   "cell_type": "code",
   "execution_count": null,
   "metadata": {},
   "outputs": [],
   "source": [
    "ta_listen=[ta.Copy(),ta.Copy()] #create a list for comparision\n",
    "#the Filename can be manipulated to use the automatic naming \n",
    "ta_listen[0].filename=\"upper confidence limit\"\n",
    "ta_listen[1].filename=\"lower confidence limit\"\n",
    "\n",
    "for i in range(2):\n",
    "    #short name for the calculated results for reduced writing\n",
    "    par=ta.re['fit_results_rates'].copy() \n",
    "    if i == 0:\n",
    "        #overwrite the value with the limits\n",
    "        par.loc['k0','value']=par.loc['k0','upper_limit']\n",
    "    else:\n",
    "        par.loc['k0','value']=par.loc['k0','lower_limit']\n",
    "    # Write the fit results as input parameter\n",
    "    ta_listen[i].par=pf.pardf_to_par(par) \n",
    "    for key in ta_listen[i].par.keys():\n",
    "        # Lock the parameter so that only the spectra are calculated\n",
    "        ta_listen[i].par[key].vary=False  \n",
    "    # Run the global fit to calculate the new spectra\n",
    "    ta_listen[i].Fit_Global()   "
   ]
  },
  {
   "cell_type": "markdown",
   "metadata": {},
   "source": [
    "### Shaping of the plot\n",
    "\n",
    "The plot could be re-shaped using the plotting GUI. Here we need to use a trick to achieve this automatically. Firstly, we get a handle to the drawn axis, so that we can directly manipulate the plot. Secondly, we set the ylimit of the plot."
   ]
  },
  {
   "cell_type": "code",
   "execution_count": null,
   "metadata": {},
   "outputs": [],
   "source": [
    "ta.Compare_at_wave(fitted=True, \n",
    "                   other=ta_listen, \n",
    "                   rel_wave=[450,590], \n",
    "                   width=50, \n",
    "                   linewidth=3)\n",
    " \n",
    "ax=plt.gca()              # get a handle to the drawn axis   \n",
    "ax.set_ylim(-50e-3,20e-3)  # set the ylimit of the plot"
   ]
  },
  {
   "cell_type": "markdown",
   "metadata": {},
   "source": [
    "### 4b) Target analysis $-$ propose a model\n",
    "\n",
    "Several studies in acetonitrile reveal that the *dark* phz-centered excited state is populated from the initially excited $^3$MLCT states. Ultimately, a *bright* $^3$MLCT$_{phen}$ is formed from the tbbpy, phen and phz centered states. Herein, it is shown how to define an own model function based on such *a priori* knowledge.\n",
    "\n",
    "### 4b.1) Define own model function\n",
    "\n",
    "Based on the literature findings a model is proposed, where initially proximal MLCT (tbbpy and phen, A) and distal MLCT states (phz, B) are populated. Subsequently those states decay forming the *bright* MLCT$_{phen}$ state (C). This in turn decays back to the ground state (C'). The respective kinetic rate constants can be written as\n",
    "\n",
    "- $\\displaystyle \\frac{d[A]}{dt} = -k_0 \\cdot [A]$\n",
    "- $\\displaystyle \\frac{d[B]}{dt} = -k_0 \\cdot [B]$\n",
    "- $\\displaystyle \\frac{d[C]}{dt} = k_0 \\cdot ([A] + [B]) -k_1 \\cdot [C]$,\n",
    "\n",
    "with brackets indicating the concentration of A, B and C. Those rate equations are defined in the python function, like:\n",
    "\n",
    "```python\n",
    "# state: A, d[A]/dt\n",
    "dc[0] = -pardf['k0']*dt*c_temp[0] + g[i]*dt\n",
    "# state: B, d[B]/dt\n",
    "dc[1] = -pardf['k0']*dt*c_temp[1] + g[i]*dt\n",
    "# state: C, d[C]/dt\n",
    "dc[2] = pardf['k0']*dt*c_temp[0] + pardf['k0']*dt*c_temp[1] - pardf['k1']*dt*c_temp[2]\n",
    "                        \n",
    "```\n",
    "\n",
    "![Schematic sketch of the user-defined model](img/Fig3_complex_model.png \"Parallel Model\")"
   ]
  },
  {
   "cell_type": "code",
   "execution_count": null,
   "metadata": {},
   "outputs": [],
   "source": [
    "FWHM=2.35482\n",
    "\n",
    "def gauss(t,sigma=0.1,mu=0):\n",
    "    y=np.exp(-0.5*((t-mu)**2)/sigma**2)\n",
    "    y/=sigma*np.sqrt(2*np.pi)\n",
    "    return y\n",
    "\n",
    "def Rudppz(times,pardf):\n",
    "        '''\n",
    "        Define a model where initially A and B are populated and decay forming C. \n",
    "        Subsequently, C decays back to the ground-state (C').\n",
    "        \n",
    "        args:\n",
    "                pardf: pandas.DataFrame with the column 'value' named in 'pardf' (type: \n",
    "                pandas.DataFrame)\n",
    "                times: vector (type:list)\n",
    "                \n",
    "        returns:\n",
    "                c: DataFrame with the times as index and in the columns the an expression\n",
    "                of the relative concentrations of A, B and C (type: dictionary)\n",
    "        '''\n",
    "        # create an empty concentration matrix\n",
    "        c=np.zeros((len(times),3),dtype='float')\n",
    "        # create IRF                                            \n",
    "        g=gauss(times,sigma=pardf['resolution']/FWHM,mu=pardf['t0'])\n",
    "        # defining how many extra steps are taken between the main time_points\n",
    "        sub_steps=10\n",
    "         # initial change for each concentration (3 refers to the number of states)                               \n",
    "        dc=np.zeros((3,1),dtype='float')\n",
    "        for i in range(1,len(times)):\n",
    "                # adaption of the time-intervals to the sub_steps\n",
    "                dt=(times[i]-times[i-1])/(sub_steps)\n",
    "                # create a temporary concentration matrix\n",
    "                c_temp=c[i-1,:]\n",
    "                for j in range(int(sub_steps)):\n",
    "                        # state: A, d[A]/dt\n",
    "                        dc[0] = -pardf['k0']*dt*c_temp[0] + g[i]*dt\n",
    "                        # state: B, d[B]/dt\n",
    "                        dc[1] = -pardf['k0']*dt*c_temp[1] + g[i]*dt\n",
    "                        # state: C, d[C]/dt\n",
    "                        dc[2] = pardf['k0']*dt*c_temp[0] + pardf['k0']*dt*c_temp[1] - pardf['k1']*dt*c_temp[2]\n",
    "                        for b in range(c.shape[1]):\n",
    "                                #check that all concentrations are > 0\n",
    "                                c_temp[b] =np.nanmax([(c_temp[b]+np.squeeze(dc[b])),0.])\n",
    "                # store temporary concentrations into the main matrix\n",
    "                c[i,:] =c_temp\n",
    "        c=pd.DataFrame(c,index=times)\n",
    "        c.index.name='time' # name the delay-times\n",
    "        c.columns=['A','B','C'] # name the species\n",
    "\n",
    "        return c\n"
   ]
  },
  {
   "cell_type": "markdown",
   "metadata": {},
   "source": [
    "### 4b.2) Define fitting parameters"
   ]
  },
  {
   "cell_type": "code",
   "execution_count": null,
   "metadata": {},
   "outputs": [],
   "source": [
    "ta.par=lmfit.Parameters()\n",
    "# rate constants\n",
    "ta.par.add('k0',value=1/2.0, min=1/10.0, max=1/0.1, vary=True)\n",
    "ta.par.add('k1',value=1/100000, vary=False)\n",
    "# time-zero parameter fixed during fit\n",
    "ta.par.add('t0',value=0.0, min=-0.1, max=0.1, vary=False) \n",
    "\n",
    "# pump-pulse width parameter fixed during fit\n",
    "ta.par.add('resolution', value=0.07, min=0.04, max=0.20, vary=False) "
   ]
  },
  {
   "cell_type": "markdown",
   "metadata": {},
   "source": [
    "### 4b.3) Fitting of the Data $-$ Kinetic Modeling (**Ru-dppz** Model)"
   ]
  },
  {
   "cell_type": "code",
   "execution_count": null,
   "metadata": {},
   "outputs": [],
   "source": [
    "ta.mod=Rudppz               # model selection (own model)\n",
    "\n",
    "ta.timelimits=[0.35,2000]   # set delay-time range for fit\n",
    "ta.log_fit=False            # fitting on linear time scale\n",
    "\n",
    "ta.Fit_Global()             # pass parameter object (par) to global fit "
   ]
  },
  {
   "cell_type": "markdown",
   "metadata": {},
   "source": [
    "## 5) Plot the fit results"
   ]
  },
  {
   "cell_type": "code",
   "execution_count": null,
   "metadata": {},
   "outputs": [],
   "source": [
    "plt.close('all')\n",
    "ta.Plot_fit_output(title='2D-Plots', plotting=4)"
   ]
  },
  {
   "cell_type": "code",
   "execution_count": null,
   "metadata": {},
   "outputs": [],
   "source": [
    "ta.Plot_fit_output(title='summed TA signals', plotting=1)\n",
    "ta.Plot_fit_output(title='Decay Associated Spectra', plotting=0)\n",
    "ta.Plot_fit_output(title='concentration profiles', plotting=5) #or: ta.re['c'].plot()"
   ]
  },
  {
   "cell_type": "markdown",
   "metadata": {},
   "source": [
    "## 6) Save results"
   ]
  },
  {
   "cell_type": "code",
   "execution_count": null,
   "metadata": {},
   "outputs": [],
   "source": [
    "savename = filename+'_own'\n",
    "ta.Save_project(filename=savename,   # set save name\n",
    "                path='results')   # set name of save folder\n",
    "\n",
    "ta.Save_data(save_RAW=False,         # do not save pre-processed data\n",
    "             save_Fit=True,          # save pre-processed and fitted data\n",
    "             filename=savename,      # set save name\n",
    "             path='results')      # set name of save folder"
   ]
  },
  {
   "cell_type": "code",
   "execution_count": null,
   "metadata": {},
   "outputs": [],
   "source": []
  }
 ],
 "metadata": {
  "ipub": {
   "titlepage": {
    "author": "Jens Uhlig",
    "email": "jens.uhlig@chemphys.lu.se",
    "logo": "http://www.jensuhlig.de//hot_warm_cold.png",
    "subtitle": "Main Worksheet",
    "title": "Transient Absorption Worksheet"
   }
  },
  "kernelspec": {
   "display_name": "Python 3 (ipykernel)",
   "language": "python",
   "name": "python3"
  },
  "language_info": {
   "codemirror_mode": {
    "name": "ipython",
    "version": 3
   },
   "file_extension": ".py",
   "mimetype": "text/x-python",
   "name": "python",
   "nbconvert_exporter": "python",
   "pygments_lexer": "ipython3",
   "version": "3.11.9"
  }
 },
 "nbformat": 4,
 "nbformat_minor": 4
}
