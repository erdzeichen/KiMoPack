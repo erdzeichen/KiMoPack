{
 "cells": [
  {
   "cell_type": "markdown",
   "metadata": {
    "slideshow": {
     "slide_type": ""
    },
    "tags": []
   },
   "source": [
    "# Introduction\n",
    "\n",
    "This notebook is a more compact introduction to simple and advanced analysis using KiMoPack.<br>\n",
    "It was developed to support a live workshopand will go through basic analysis and some more <br>\n",
    "advanced things. <br>\n",
    "\n",
    "## The steps of an analysis\n",
    "\n",
    "A typical analysis involves the following steps:\n",
    "\n",
    "1. Data Import\n",
    "2. Data Shaping + Plotting\n",
    "3. (Optional) comparative analysis\n",
    "4. Modelling\n",
    "5. Reporting\n",
    "\n",
    "In KiMoPack the analysis is normally guided by the workflow tools that can be downloaded here: \n",
    "\n",
    "``` python\n",
    "    import KiMoPack\n",
    "    KiMoPack.download_notebooks()\n",
    "```\n",
    "## Python Imports\n",
    "KiMoPack is a python package that heavily relies on the python data analysis infrastructure.<br>\n",
    "Each notebook starts with series of imports. Here we add an option that recognizes if this notebook<br>\n",
    "is run on Colab. In this case we download the necessary datafiles.<br> "
   ]
  },
  {
   "cell_type": "code",
   "execution_count": null,
   "metadata": {
    "slideshow": {
     "slide_type": ""
    },
    "tags": []
   },
   "outputs": [],
   "source": [
    "import os,sys\n",
    "import KiMoPack.plot_func as pf\n",
    "import pandas as pd\n",
    "import numpy as np\n",
    "import matplotlib,lmfit\n",
    "import matplotlib.pyplot as plt\n",
    "from importlib import reload\n",
    "reload(pf)\n",
    "path_to_files = os.sep.join([os.getcwd(), \"Data\", \"Introduction\"])\n",
    "pf.changefonts()\n",
    "%matplotlib qt\n",
    "\n",
    "import sys\n",
    "if not sys.warnoptions:\n",
    "    import warnings\n",
    "    warnings.simplefilter(\"ignore\")\n",
    "\n",
    "def gauss(t,sigma=0.1,mu=0,scale=1):\n",
    "\ty=np.exp(-0.5*((t-mu)**2)/sigma**2)\n",
    "\ty/=sigma*np.sqrt(2*np.pi)\n",
    "\treturn y*scale\n",
    "FWHM=2.35482"
   ]
  },
  {
   "cell_type": "markdown",
   "metadata": {
    "slideshow": {
     "slide_type": ""
    },
    "tags": []
   },
   "source": [
    "# Data Import\n",
    "\n",
    "In KiMoPack data is imported and handled in form of a Pandas DataFrame. <br>\n",
    "The data is either read from disc by one of the import functions or given <br>\n",
    "to the function in form of a dataframe that is commonly called \"ds\" for Dataset.<br> \n",
    "There are a lot of import options and an import API to adopt to any shape.<br>\n",
    "\n",
    "to create a single transient absorption object. For work with many single scans please <br> \n",
    "see Tutorial 4 \"Single scan handling\", for comparative work please see tutorial 3 \"Compare Fit\".<br>\n",
    "\n",
    "See the documentation with \"pf.TA?\" or the online documentation under<br>\n",
    "    https://kimopack.readthedocs.io/en/latest/Opening.html for more details.<br>\n",
    "\n",
    "## Finding the Filename and path\n",
    "There are two general ways to provide the name and path to the files that are to be investigated. \n",
    "    \n",
    "1. Either the filename and path to the file is provided. In this case the path is <br>\n",
    "        either a single word (e.g. \"Data\" if all the data is in the relative folder <br>\n",
    "        \"data\" or a path to files. All the usual ways to handle a path should work. <br>\n",
    "        I prefer to create a path by creating a platform independent string \n",
    "2. instead of a filename the word **gui** is used, in which case a TKinter Gui opens <br> \n",
    "    and allows the user to select a file (and path) I recommend that directly after <br>\n",
    "    the file is opened the use changes the work **gui** into **recent**. Because then the <br> \n",
    "    code will reopen last file that was opened before with the gui (permitting restarting)\n",
    "\n",
    "In this example we will use the filename."
   ]
  },
  {
   "cell_type": "code",
   "execution_count": null,
   "metadata": {
    "slideshow": {
     "slide_type": ""
    },
    "tags": []
   },
   "outputs": [],
   "source": [
    "ta=pf.TA(\"con_1.SIA\",path=path_to_files)"
   ]
  },
  {
   "cell_type": "markdown",
   "metadata": {
    "slideshow": {
     "slide_type": ""
    },
    "tags": []
   },
   "source": [
    "If no errors appear the import was most likely successful and we can continue with the inspection and shaping of data. <br> \n",
    "If there are troubles during or the data does not look like it should, the imported data is stored in the DataFrame **ta.ds_ori**  <br> \n",
    "and checking if this looks correct with \"ta.ds_ori.head()\" is a very good first step for finding the right input parameters.<br>\n",
    "\n",
    "## Data Inspection, shaping and RAW plotting\n",
    "The first step is usually to visually inspect the data. <br> \n",
    "In KiMoPack we use three plotting functions for all plotting tasks and three functions for comparative plotting (see Tutorial 3)\n",
    "``` python\n",
    "ta.Plot_RAW()\n",
    "ta.Plot_fit_output()\n",
    "ta.Plot_Interactive()\n",
    "```\n",
    "All plot functions plot in their standard call (as above) multiple plots simultaneously. <br> \n",
    "The first argument is a list that calls all the plots that one chooses. For RAW plotting the default is:\n",
    "``` python\n",
    "ta.Plot_RAW(range(4))\n",
    "```\n",
    "\n",
    "Here we choose to only look at the Matrix, which is plot \"0\" (see the documentation with \"ta.Plot_RAW?\" or https://kimopack.readthedocs.io/en/latest/Plotting.html"
   ]
  },
  {
   "cell_type": "code",
   "execution_count": null,
   "metadata": {
    "slideshow": {
     "slide_type": ""
    },
    "tags": []
   },
   "outputs": [],
   "source": [
    "%matplotlib qt\n",
    "ta.bordercut=[400,975]\n",
    "ta.timelimits=[-0.2,500]\n",
    "#ta.Plot_RAW(0)"
   ]
  },
  {
   "cell_type": "markdown",
   "metadata": {
    "slideshow": {
     "slide_type": ""
    },
    "tags": []
   },
   "source": [
    "And set the interesting wavelength and time points where we want the code to plot Kinetics and spectra respectively. e"
   ]
  },
  {
   "cell_type": "markdown",
   "metadata": {
    "slideshow": {
     "slide_type": ""
    },
    "tags": []
   },
   "source": [
    "During the import these values are set automatically:\n",
    "``` python\n",
    "ta.rel_wave = np.arange(300,1000,100)                        #standard\n",
    "ta.rel_time = [0.2,0.3,0.5,1,3,10,30,100,300,1000,3000,9000] #standard\n",
    "```\n",
    "GUI (released soon)\n",
    "\n",
    "The parameter \"wavelength_bin\" set the width of the spectral bins. The parameter \"time_width_percent\" sets a percentual binning for the times.\n",
    "additional shaping options include rebinning in the spectral range \"wave_nm_bin\" or in energy scale \"equal_energy_bin\". See:<br>\n",
    "https://kimopack.readthedocs.io/en/latest/Plotting.html#plot-shaping-options-without-influence-on-the-fitting and<br>\n",
    "https://kimopack.readthedocs.io/en/latest/Shaping.html for more details"
   ]
  },
  {
   "cell_type": "code",
   "execution_count": null,
   "metadata": {
    "slideshow": {
     "slide_type": ""
    },
    "tags": []
   },
   "outputs": [],
   "source": [
    "ta()"
   ]
  },
  {
   "cell_type": "markdown",
   "metadata": {
    "slideshow": {
     "slide_type": ""
    },
    "tags": []
   },
   "source": [
    "**Note** The filename is the standard title of the plots. The Plot function can take other titles. Alternatively changing the variable \"ta.filename\" can be used to change the title permanently.\n",
    "\n",
    "``` python\n",
    "ta.Save_Powerpoint(save_Fit=False,title='Tutorial plot')\n",
    "```\n",
    "This would create these plots and place them all on a powerpoint slide and save this slide.\n",
    "\n",
    "# Fitting of Data\n",
    "One of the main purposes of KiMoPack is to make a Global analysis of the data. As can be seen from the results of the SVD (last plot in the RAW plotting) the independent extraction of the spectra using the usual approach $ U\\,\\times\\,\\sum\\,\\times\\,V^{T} = M$ leads to vectors that are extracted from the data only and not physically meaningfull. <br> \n",
    "1. KiMoPack is using a parametric model function **ta.mod** to prepare a \"concentration matrix\" $C(t)$.\n",
    "2. In the standard usage the spectral matrix (called \"DAC\" in KiMoPack) is then calculated with np.linalg.lstsq so that the calculated matrix **AC** is $C(t)\\,\\times\\,DAC(\\lambda)=AC$.\n",
    "3. Then an error matrix **AE** is calculated that is the difference between the (shaped) measured matrix **A** and the calculated matrix **AC**\n",
    "4. Then the parameter of the **ta.mod** are modulated to minimize the sum of the squared **AE**\n",
    "\n",
    "This fitting process has a huge amount of options that include the providing of external spectra. If a sufficient amount of external spectra are provided this fitting process changes into a linear combination analysis. named switches like \"ext_spectra_scale\", \"extt_spectra_shift\"or \t\t\"ext_spectra_guidechange how they are handled. <br>\n",
    "e But let's start at the beginning:\n",
    "\n",
    "## choosing of the model function\n",
    "KiMoPack can either use one of the 3 **named functions**:\n",
    "``` python\n",
    "ta.mod = 'exponential' #or 'paral'\n",
    "ta.mod = 'consecutive'\n",
    "ta.mod = 'full_consecutive'\n",
    "```\n",
    "or an externally provided **external fitting function** as are provided in the file \"function_library.py\" and summarized in \"Function_library_overview.pdf\". The provided external fitting functions include linear and non linear models that cover pretty much any of the possible models with 3 or 4 species including some vibrational models.<br>\n",
    "Most function know switches like \"background\" = fit the background, \"infinite\" = non decaying species, \"explicit_gs\" = make the bleach an explicit speci. <br> But in general the external function can be pretty much anything that is needed. It gets a time vector, (at which point the function should return an entrance) and a pardf = Dataframe with the parameter from the fitting point. **It is expected to return the C(t)** and anything else is free. <br> We will look into these functions a bit later in this tutorial. Important to mention is that there is no difference in how this is handled.\n",
    "\n",
    "In this tutorial we start with a **Decay analysis**\"\""
   ]
  },
  {
   "cell_type": "code",
   "execution_count": null,
   "metadata": {
    "slideshow": {
     "slide_type": ""
    },
    "tags": []
   },
   "outputs": [],
   "source": [
    "ta.mod='exponential'       # Choose a model here 'exponential' to get simple exponential decays"
   ]
  },
  {
   "cell_type": "markdown",
   "metadata": {
    "slideshow": {
     "slide_type": ""
    },
    "tags": []
   },
   "source": [
    "Next we create a parameter object and choose appropiate guess values.<br>\n",
    "I use the limiting options \"min\" and \"max\" and typically freeze with **vary=False**: <br>\n",
    "the starting time \"t0\" and the instrument response time 'resolution'<br>\n",
    "Usually the RAW plot of the kinetics is a good starting point to read the initial guesses (as are previous informations)<br>\n",
    "\n",
    "we trigger Fits with:\n",
    "```python\n",
    "ta.Fit_Global()\n",
    "```\n",
    "I usually use this loop to freeze all parameter and check how good my input parameter actually are.<br>\n",
    "These cells are larger as I prefer to create and use parameter in the same cell."
   ]
  },
  {
   "cell_type": "code",
   "execution_count": null,
   "metadata": {
    "slideshow": {
     "slide_type": ""
    },
    "tags": []
   },
   "outputs": [],
   "source": [
    "#ta.Plot_RAW(1)\n",
    "par=lmfit.Parameters()                                       # create empty parameter object\n",
    "par.add('k0',value=1/0.14,vary=True)                  \n",
    "par.add('k1',value=1/2.35,vary=True)             \n",
    "par.add('k2',value=1/40,vary=True)   \n",
    "###-------Adding instrument parameter, here frozen---------------\n",
    "par.add('t0',value=0,min=-2,max=2,vary=False)                       # Allow the arrival time to adjust? (False here)\n",
    "par.add('resolution',value=0.086,min=0.04,max=0.5,vary=False)       # Allow the instrument response to adjust (False here\n",
    "\n",
    "if 0:\n",
    "    for key in par.keys():\n",
    "        par[key].vary=False\n",
    "ta.mod='sequential'\n",
    "ta.par=par\n",
    "ta.Fit_Global()                                 # trigger fitting\n",
    "#ta.Plot_fit_output(4)"
   ]
  },
  {
   "cell_type": "markdown",
   "metadata": {
    "slideshow": {
     "slide_type": ""
    },
    "tags": []
   },
   "source": [
    "The output is stored in **ta.re** (a dictionay) with \n",
    "* **\"c\"** = $c(t)$\n",
    "* **\"DAC\"** = $DAC(\\lambda)$\n",
    "* **\"A\"**, **\"AC\"**, **\"AE\"**\n",
    "* a large number of other things\n",
    "   \n",
    "The plots I usually check are:\n",
    "\n",
    "    1 Decay associated spectra (called **DAC**)\n",
    "        a. middle: as calculated\n",
    "        b. right: spectra multiplied by maximum of c(t) for check if it should be visible\n",
    "        c. left: normalized\n",
    "    2. The spectral axis summed\n",
    "    5. The fitted Matrixes\n",
    "    6. The c(t) that was actually used\n",
    "Together with the metrix $R^2$ and $\\chi^2$<br>\n",
    "Other plotting options include the residuals(6), kinetics(2), spectra(3)"
   ]
  },
  {
   "cell_type": "markdown",
   "metadata": {},
   "source": [
    "## What is going on?\n",
    "\n",
    "**$c(t)$ x $DAC(\\lambda)$**=Species Spectra"
   ]
  },
  {
   "cell_type": "code",
   "execution_count": null,
   "metadata": {},
   "outputs": [],
   "source": [
    "if 0:\n",
    "    plt.close('all')\n",
    "    #plot c(t) and DAC($\\lambda$)\n",
    "    fig,ax=plt.subplots(2,1,figsize=(12,8))\n",
    "    ta.re['c'].plot(ax=ax[0],lw=3);ta.re['DAC'].plot(ax=ax[1],lw=3)\n",
    "    ax[0].set_xlim(0.01,500);ax[0].set_xscale('log')\n",
    "    ax[0].set_ylim(-0.01,1);ax[0].set_yscale('symlog')\n",
    "    ax[0].legend(title='Notice the intensity \\nof species 0')\n",
    "    ax[1].legend(title='Notice the intensity \\nof species 0')\n",
    "    fig.tight_layout()\n",
    "    \n",
    "    species_dictionary=pf.Species_Spectra(ta)\n",
    "    for key in species_dictionary.keys():\n",
    "        print(key)\n",
    "        ta.Plot_RAW(0,ds=species_dictionary[key],title='Species %i'%key)"
   ]
  },
  {
   "cell_type": "markdown",
   "metadata": {},
   "source": [
    "## Target Analysis\n",
    "The next model one typically tries is a consecutive model (A->B->C) This only requires to change the model name"
   ]
  },
  {
   "cell_type": "code",
   "execution_count": null,
   "metadata": {
    "slideshow": {
     "slide_type": ""
    },
    "tags": []
   },
   "outputs": [],
   "source": [
    "ta.mod='consecutive'\n",
    "ta.par=par\n",
    "ta.Fit_Global()\n",
    "#ta.Plot_fit_output([0,1,4,5])"
   ]
  },
  {
   "cell_type": "code",
   "execution_count": null,
   "metadata": {},
   "outputs": [],
   "source": [
    "FWHM=2.35482\n",
    "def manual_consecutive(times,pardf):\t\t\t\t\t\t\t\t\n",
    "    c=np.zeros((len(times),4),dtype='float') \t\t\t\t\t\t#creation of matrix that will hold the concentrations\n",
    "    g=gauss(times,sigma=pardf['resolution']/FWHM,mu=pardf['t0']) \t#creating the gaussian pulse that will \"excite\" our slu\n",
    "    sub_steps=10   #sub_steps=pardf['sub_steps']                    #defining how many extra steps will be taken between the main time_points\n",
    "    \n",
    "    #The loop\n",
    "    for i in range(1,len(times)):\t\t\t\t\t\t\t\t\t#iterate over all tre will be\n",
    "        dc=np.zeros(4,dtype='float')\t\t\t\t\t\t\t    #the initial change for each chere will be\n",
    "        dt=(times[i]-times[i-1])/(sub_steps)\t\t\t\t\t\t# as we are taking smaller steps the time intervals need to be adapted\n",
    "        c_temp=c[i-1,:]\t\t\t\t\t\t\t\t\t\t\t\t#temporary matrix holdinro in the end)\n",
    "        for j in range(int(sub_steps)):\n",
    "            dc[0]=-pardf['k0']*dt*c_temp[0]+g[i]*dt\t\t\t\t\t#excite a small fraction with g[i] and decay with 'k0'\n",
    "            dc[1]=pardf['k0']*dt*c_temp[0]-pardf['k1']*dt*c_temp[1]\t#form with \"k0\" and decay with \"k1\"\n",
    "            dc[2]=pardf['k1']*dt*c_temp[1]-pardf['k2']*dt*c_temp[2]\t#form with \"k1\" a\n",
    "            dc[3]=pardf['k2']*dt*c_temp[2]\n",
    "            c_temp=c_temp+dc\n",
    "            c_temp[c_temp<0]=0\n",
    "        c[i,:] =c_temp\t\t\t\t\t\t\t\t\t\t\t\t#store the temporary concentrations into the main matrix\n",
    "    c=pd.DataFrame(c,index=times)\t\t\t\t\t\t\t\t#write back the right indexes\n",
    "    c.index.name='time'\t\t\t\t\t\t\n",
    "    \n",
    "    #Shaping options\t\t\t\t\t\t\n",
    "    c.columns=['$^3MLCT$','$^3MC$','$^5MC$','Inf']\n",
    "    if not 'infinite' in list(pardf.index.values):\tc.drop('Inf',axis=1,inplace=True)\n",
    "    if 'explicit_GS' in list(pardf.index.values):   c['GS']=-c.sum(axis=1)\n",
    "    if 'background' in list(pardf.index.values):    c['background']=1\n",
    "    return c\t\t\t\t\t\t\t\t\t\t\t\t\t\t#return the conations to the global fitting conceo the global fitting"
   ]
  },
  {
   "cell_type": "code",
   "execution_count": null,
   "metadata": {},
   "outputs": [],
   "source": [
    "ta.mod=manual_consecutive     # identical to 'full_consecutive'\n",
    "ta.Fit_Global()\n",
    "#ta.Plot_fit_output([0,1,4,5],title='Manually defined function')"
   ]
  },
  {
   "cell_type": "markdown",
   "metadata": {
    "slideshow": {
     "slide_type": ""
    },
    "tags": []
   },
   "source": [
    "Here it is still visible that the \"species\" have a bleach and a stimulated emission.<br> \n",
    "Next I would try to add the ground state explicitely by adding the keyword **explicit_GS**<br>\n",
    "I usually keep the fitting cell together as one unit and work on the parameters.<br>\n",
    "\n",
    "**compare the last plot containing the c(t) to understand the difference** "
   ]
  },
  {
   "cell_type": "markdown",
   "metadata": {},
   "source": [
    "## Adding external Spectra (e.g. Ground state)"
   ]
  },
  {
   "cell_type": "code",
   "execution_count": null,
   "metadata": {
    "slideshow": {
     "slide_type": ""
    },
    "tags": []
   },
   "outputs": [],
   "source": [
    "wave=ta.re['A'].columns.values\n",
    "df=pd.DataFrame(gauss(t=wave),index=wave)\n",
    "df.columns=['GS']\n",
    "df.sort_index(inplace=True)\n",
    "#df.plot()"
   ]
  },
  {
   "cell_type": "markdown",
   "metadata": {
    "slideshow": {
     "slide_type": ""
    },
    "tags": []
   },
   "source": [
    "and add it as the ground state spectrum to the modelling.<br>\n",
    "Here we use the switch **par.add('ext_spectra_guide')** That converts the spectrum from \"must be like this\" to \"should be some close to this\""
   ]
  },
  {
   "cell_type": "code",
   "execution_count": null,
   "metadata": {
    "slideshow": {
     "slide_type": ""
    },
    "tags": []
   },
   "outputs": [],
   "source": [
    "ta.mod='consecutive'    \n",
    "par=lmfit.Parameters()                                       # create empty parameter object\n",
    "par.add('k0',value=1/0.1,vary=True)                  \n",
    "par.add('k1',value=1/2.5,vary=True)             \n",
    "par.add('k2',value=1/40,vary=True)   \n",
    "par.add('t0',value=0,min=-2,max=2,vary=True)                       # Allow the arrival time to adjust? (False here)\n",
    "par.add('resolution',value=0.086081,min=0.04,max=0.5,vary=False)       # Allow the instrument response to adjust (False here)\n",
    "par.add('explicit_GS')\n",
    "\n",
    "#par.add('ext_spectra_scale',value=1,vary=True)\n",
    "#par.add('ext_spectra_shift',value=0,vary=False)\n",
    "#par.add('ext_spectra_guide')\n",
    "\n",
    "ta.par=par\n",
    "ta.Fit_Global(ext_spectra=df)\n",
    "#ta.Fit_Global()\n",
    "#plt.close('all')\n",
    "ta.Plot_fit_output([0,4])"
   ]
  },
  {
   "cell_type": "code",
   "execution_count": null,
   "metadata": {
    "slideshow": {
     "slide_type": ""
    },
    "tags": []
   },
   "outputs": [],
   "source": [
    "ta1=pf.TA('con_5.SIA',path=path_to_files)\n",
    "chirp=[-1.29781491e-11,4.72546618e-08,-6.36421133e-05,3.77396295e-02,-8.08783621e+00]\n",
    "ta1.Cor_Chirp(fitcoeff=chirp)\n",
    "ta1.intensity_range=0.005\n",
    "ta1.log_scale=True\n",
    "ta1.timelimits=[-0.2,500]\n",
    "ta1.bordercut=[390,1150]\n",
    "ta1.rel_wave=[430,487,525,640,720,820,900,950]\n",
    "ta1.rel_time=[-0.1,-0.02,0.035,0.2,0.5,2,14,22,92,160]\n",
    "ta1.ignore_time_region=[-0.15,0.1]                      #ta1.ignore_time_region=[[-0.15,0.1],[10,12]]\n",
    "ta1.scattercut=[525,580]                                #ta1.scattercut=[[525,580],[750,755]]\n",
    "#ta1.Plot_RAW(0,title='without laser scatter')"
   ]
  },
  {
   "cell_type": "code",
   "execution_count": null,
   "metadata": {},
   "outputs": [],
   "source": [
    "ta1.mod='consecutive'    \n",
    "ta1.par=ta.par_fit\n",
    "ta1.Fit_Global(ext_spectra=df)\n",
    "plt.close('all')\n",
    "#ta1.Plot_fit_output([0,4])"
   ]
  },
  {
   "cell_type": "markdown",
   "metadata": {
    "slideshow": {
     "slide_type": ""
    },
    "tags": []
   },
   "source": [
    "# Advanced modelling, Multimodal same technique"
   ]
  },
  {
   "cell_type": "markdown",
   "metadata": {},
   "source": [
    "### Create data"
   ]
  },
  {
   "cell_type": "code",
   "execution_count": null,
   "metadata": {},
   "outputs": [],
   "source": [
    "import function_library as func\n",
    "reload(func)\n",
    "ta.mod=func.P13\n",
    "\n",
    "for key in par.keys():\n",
    "    par[key].vary=False\n",
    "lines={'GS':(550,50,2),'A':(800,60,1),'B':(600,80,1),'C':(750,70,1)}\n",
    "ds=pd.concat([pd.DataFrame(gauss(ta.ds.index.values,sigma=lines[key][1],mu=lines[key][0],scale=lines[key][2]),index=ta.ds.index.values,columns=[key]) for key in lines.keys()],axis=1)\n",
    "\n",
    "par=lmfit.Parameters()                                       # create empty parameter object\n",
    "par.add('k0',value=1/2,vary=True)                  \n",
    "par.add('k1',value=1/10,vary=True)             \n",
    "par.add('k2',value=1/4,vary=True)\n",
    "par.add('k3',value=1/4,vary=True)                    \n",
    "par.add('t0',value=0,min=-2,max=2,vary=True)                       # Allow the arrival time to adjust? (False here)\n",
    "par.add('resolution',value=0.086081,min=0.04,max=0.5,vary=False)       # Allow the instrument response to adjust (False here)\n",
    "par.add('explicit_GS')\n",
    "\n",
    "for key in par.keys():\n",
    "    par[key].vary=False\n",
    "ta.par=par\n",
    "\n",
    "ta_list=[]\n",
    "for a in [1,5,25]:\n",
    "    ta1=ta.Copy()\n",
    "    ta1.filename='r2 x %i'%a\n",
    "    ta1.par['k2'].value=par['k2'].value*a\n",
    "    ta1.Fit_Global(ext_spectra=ds)\n",
    "    ta1.ds=ta1.re['AC']+np.random.normal(scale=5e-2,size=ta1.re['AC'].shape)\n",
    "    ta1.factor=a\n",
    "    ta_list.append(ta1)"
   ]
  },
  {
   "cell_type": "markdown",
   "metadata": {},
   "source": [
    "### Compare the data"
   ]
  },
  {
   "cell_type": "code",
   "execution_count": null,
   "metadata": {},
   "outputs": [],
   "source": [
    "ta1.Compare_at_time(other=ta2,rel_time=[1,5])\n",
    "window=[0.7,1.3,545,555]\n",
    "ta1.Compare_at_time(other=ta2,rel_time=[1,5],norm_window=window)"
   ]
  },
  {
   "cell_type": "code",
   "execution_count": null,
   "metadata": {},
   "outputs": [],
   "source": [
    "ta1.Compare_at_wave(other=[ta2,ta3],rel_wave=[800])\n",
    "window=[0.1,0.2,780,820]\n",
    "ta1.Compare_at_wave(other=[ta2,ta3],rel_wave=[800],norm_window=window)"
   ]
  },
  {
   "cell_type": "markdown",
   "metadata": {},
   "source": [
    "### Fitting a single spectrum"
   ]
  },
  {
   "cell_type": "code",
   "execution_count": null,
   "metadata": {},
   "outputs": [],
   "source": [
    "par=lmfit.Parameters()                                    # create empty parameter object\n",
    "par.add('k0',value=1/2,vary=True)                  \n",
    "par.add('k1',value=1/10,vary=True)             \n",
    "par.add('k2',value=1/4,vary=True)\n",
    "par.add('k3',value=1/4,vary=True)                    \n",
    "par.add('t0',value=0,min=-2,max=2,vary=True)                       # Allow the arrival time to adjust? (False here)\n",
    "par.add('resolution',value=0.086081,min=0.04,max=0.5,vary=False)       # Allow the instrument response to adjust (False here)\n",
    "par.add('explicit_GS')\n",
    "ta.par=par\n",
    "ta.mod=func.P13\n",
    "ta.Fit_Global(ext_spectra=df)\n",
    "ta.Plot_fit_output()"
   ]
  },
  {
   "cell_type": "markdown",
   "metadata": {},
   "source": [
    "### Copy paste fit function and make small adjustments"
   ]
  },
  {
   "cell_type": "code",
   "execution_count": null,
   "metadata": {},
   "outputs": [],
   "source": [
    "def P13_split(times,pardf):\t\t\t\t\t\t\t\t\n",
    "\t'''P13 with splitting'''\n",
    "\tc=np.zeros((len(times),4),dtype='float') \t\t\t\t\t\t#creation of matrix that will hold the concentrations\n",
    "\tg=gauss(times,sigma=pardf['resolution']/FWHM,mu=pardf['t0']) \t#creating the gaussian pulse that will \"excite\" our sample\n",
    "\tif 'sub_steps' in list(pardf.index.values):\n",
    "\t\tsub_steps=pardf['sub_steps']\n",
    "\telse:\n",
    "\t\tsub_steps=10  \t\t\t\t\t\t\t\t\t\t\t\t\t#defining how many extra steps will be taken between the main time_points\n",
    "\tfor i in range(1,len(times)):\t\t\t\t\t\t\t\t\t#iterate over all timepoints\n",
    "\t\tdc=np.zeros(4,dtype='float')\t\t\t\t\t\t\t#the initial change for each concentration, the \"3\" is representative of how many changes there will be\n",
    "\t\tdt=(times[i]-times[i-1])/(sub_steps)\t\t\t\t\t\t# as we are taking smaller steps the time intervals need to be adapted\n",
    "\t\tc_temp=c[i-1,:]\t\t\t\t\t\t\t\t\t\t\t\t#temporary matrix holding the changes (needed as we have sub steps and need to check for zero in the end)\n",
    "\t\tfor j in range(int(sub_steps)):\n",
    "\t\t\tdc[0]=-pardf['k0']*dt*c_temp[0]-pardf['k2']*pardf['f0']*dt*c_temp[0]+g[i]*dt\t\t\n",
    "\t\t\tdc[1]=pardf['k0']*dt*c_temp[0]-pardf['k1']*dt*c_temp[1]\n",
    "\t\t\tdc[2]=pardf['k2']*pardf['f0']*dt*c_temp[0]-pardf['k3']*dt*c_temp[2]\n",
    "\t\t\tdc[3]=pardf['k1']*dt*c_temp[1]+pardf['k3']*dt*c_temp[2]\n",
    "\t\t\tc_temp=c_temp+dc\n",
    "\t\t\tc_temp[c_temp<0]=0\n",
    "\t\tc[i,:] =c_temp\t\t\t\t\t\t\t\t\t\t\t\t#store the temporary concentrations into the main matrix\n",
    "\tc=pandas.DataFrame(c,index=times)\t\t\t\t\t\t\t\t#write back the right indexes\n",
    "\tc.index.name='time'\t\t\t\t\t\t\t\t\t\t\t\t#and give it a name\n",
    "\tc.columns=['A','B','C','Inf']\t\t\t\t\t\t\t\t\t#this is optional but very useful. The species get names that represent some particular states\n",
    "\tif not 'infinite' in list(pardf.index.values):\n",
    "\t\tc.drop('Inf',axis=1,inplace=True)\n",
    "\tif 'explicit_GS' in list(pardf.index.values):\n",
    "\t\tc['GS']=-c.sum(axis=1)\n",
    "\tif 'background' in list(pardf.index.values):\t\t\t\t\t#optional but usefull, allow the keyword \"background\" to be used to fit the background in the global analysis\n",
    "\t\tc['background']=1\t\t\t\t\t\t\t\t\t\t\t#background always there (flat)\n",
    "\treturn c"
   ]
  },
  {
   "cell_type": "markdown",
   "metadata": {},
   "source": [
    "### Adding the parametert"
   ]
  },
  {
   "cell_type": "code",
   "execution_count": null,
   "metadata": {},
   "outputs": [],
   "source": [
    "par=lmfit.Parameters()                                       # create empty parameter object\n",
    "par.add('k0',value=1/2,vary=True)                  \n",
    "par.add('k1',value=1/40,vary=True)             \n",
    "par.add('k2',value=1/4,vary=True)\n",
    "par.add('k3',value=1/4,vary=True)                    \n",
    "par.add('t0',value=0,min=-2,max=2,vary=True)                       # Allow the arrival time to adjust? (False here)\n",
    "par.add('resolution',value=0.086081,min=0.04,max=0.5,vary=False)       # Allow the instrument response to adjust (False here)\n",
    "par.add('explicit_GS')\n",
    "ta.par=par\n",
    "\n",
    "ds=pd.concat([pd.DataFrame(gauss(ta.ds.index.values,sigma=lines[key][1],mu=lines[key][0],scale=lines[key][2]),index=ta.ds.index.values,columns=[key]) for key in ['GS']],axis=1)\n",
    "\n",
    "ta_list=[]\n",
    "for a in [1,5,25]:\n",
    "    ta1=ta.Copy()\n",
    "    ta1.par=par\n",
    "    ta1.par.add('f0',value=a,vary=True)\n",
    "    ta1.filename='r2 x %i'%a\n",
    "    ta_list.append(ta1)\n",
    "\n",
    "ta1=ta_list[0]\n",
    "plt.close('all')\n",
    "ta1.Fit_Global(multi_project=ta_list[1:],unique_parameter=['f0'],same_DAS=True,ext_spectra=df)\n",
    "ta1.Plot_fit_output(0,title='combined fitting')"
   ]
  },
  {
   "cell_type": "code",
   "execution_count": null,
   "metadata": {},
   "outputs": [],
   "source": [
    "for t in ta1.multi_projects:\n",
    "    ta.Plot_fit_output(0)"
   ]
  },
  {
   "cell_type": "markdown",
   "metadata": {},
   "source": [
    "## Let's look on some oscillations"
   ]
  },
  {
   "cell_type": "code",
   "execution_count": null,
   "metadata": {
    "slideshow": {
     "slide_type": ""
    },
    "tags": []
   },
   "outputs": [],
   "source": [
    "ta1=pf.TA('con_6.SIA',path=path_to_files)\n",
    "chirp=[-1.29781491e-11,4.72546618e-08,-6.36421133e-05,3.77396295e-02,-8.08783621e+00]\n",
    "ta1.Cor_Chirp(fitcoeff=chirp)\n",
    "\n",
    "ta1.intensity_range=0.005\n",
    "ta1.log_scale=False\n",
    "ta1.timelimits=[-0.2,500]\n",
    "ta1.bordercut=[390,1150]\n",
    "ta1.scattercut=[525,580]\n",
    "ta1.rel_wave=[430,487,525,640,720,820,900,950]\n",
    "ta1.rel_time=[-0.1,-0.02,0.035,0.2,0.5,2,14,22,92,160]\n",
    "ta1.ignore_time_region=[-0.15,0.1]\n",
    "ta1.Plot_RAW(0)"
   ]
  },
  {
   "cell_type": "code",
   "execution_count": null,
   "metadata": {
    "scrolled": true,
    "slideshow": {
     "slide_type": ""
    },
    "tags": []
   },
   "outputs": [],
   "source": [
    "ta1.mod='full_consecutive'    \n",
    "par=lmfit.Parameters()                                       # create empty parameter object\n",
    "par.add('k0',value=1/0.100143,vary=True)                  \n",
    "par.add('k1',value=1/2.496702,vary=True)             \n",
    "par.add('k2',value=1/39.963222,vary=True)   \n",
    "par.add('t0',value=0,min=-2,max=2,vary=False)                       # Allow the arrival time to adjust? (False here)\n",
    "par.add('resolution',value=0.086081,min=0.04,max=0.5,vary=False)\n",
    "par.add('explicit_GS')\n",
    "ta1.par=par\n",
    " \n",
    "ta1.Fit_Global()\n",
    "ta1.Plot_fit_output([0,4])"
   ]
  },
  {
   "cell_type": "markdown",
   "metadata": {
    "slideshow": {
     "slide_type": ""
    },
    "tags": []
   },
   "source": [
    "Now we have the main Kinetics and can subtract them. Here simply use the residuals as the next matrix to be fitted and adjust the shaping parameters"
   ]
  },
  {
   "cell_type": "code",
   "execution_count": null,
   "metadata": {
    "slideshow": {
     "slide_type": ""
    },
    "tags": []
   },
   "outputs": [],
   "source": [
    "ta2=ta1.Copy()\n",
    "ta2.ds=ta1.re['AE']\n",
    "\n",
    "ta2.intensity_range=3e-4\n",
    "ta2.rel_wave=[620,700,740,800,830,860]\n",
    "ta2.timelimits=[0.1,10]\n",
    "ta2.Plot_RAW(0,scale_type='linear')"
   ]
  },
  {
   "cell_type": "markdown",
   "metadata": {
    "slideshow": {
     "slide_type": ""
    },
    "tags": []
   },
   "source": [
    "As an alternative one could have subtracted all (or some) of the contributions using this approach:\n",
    "``` python\n",
    "    dicten=pf.Species_Spectra(ta1) # Extract each of the species as a matrix\n",
    "    ta3=ta1.Copy()                 # Make a copy of the project to test\n",
    "    ta3.ds=ta1.re['A']-dicten[1]-dicten[2]-dicten['GS'] #subtract one or multiple of the species.\n",
    "```\n",
    "\n",
    "Now we load the function file and select a model from it. <br>\n",
    "Optimizing follows the same procedure"
   ]
  },
  {
   "cell_type": "code",
   "execution_count": null,
   "metadata": {
    "slideshow": {
     "slide_type": ""
    },
    "tags": []
   },
   "outputs": [],
   "source": [
    "import function_library as func\n",
    "ta2.mod=func.oscil_comp   "
   ]
  },
  {
   "cell_type": "code",
   "execution_count": null,
   "metadata": {
    "slideshow": {
     "slide_type": ""
    },
    "tags": []
   },
   "outputs": [],
   "source": [
    "par=lmfit.Parameters()                                       # create empty parameter object\n",
    "par.add('f0',value=1.00561,vary=True)                  \n",
    "par.add('tk0',value=1/2.8725,vary=True,min=1/4,max=4)\n",
    "par.add('S0',value=0.975956,vary=True ,min=0,max=1)\n",
    "ta2.par=par\n",
    "ta2.ignore_time_region=[-0.15,0.25]\n",
    "#ta2.Fit_Global(other_optimizers='least_squares')\n",
    "ta2.Fit_Global()\n",
    "\n",
    "plt.close('all')\n",
    "ta2.error_matrix_amplification=1\n",
    "ta2.Plot_fit_output([0,4],scale_type='linear')"
   ]
  },
  {
   "cell_type": "markdown",
   "metadata": {
    "slideshow": {
     "slide_type": ""
    },
    "tags": []
   },
   "source": [
    "As does calculating the errors"
   ]
  },
  {
   "cell_type": "code",
   "execution_count": null,
   "metadata": {
    "slideshow": {
     "slide_type": ""
    },
    "tags": []
   },
   "outputs": [],
   "source": [
    "#This takes about 2min\n",
    "#ta2.Fit_Global(confidence_level=0.95)\n",
    "\n",
    "ta2=pf.TA('Fitted_Oscillations_with_confidence.hdf5',path=path_to_files)\n",
    "ta2.Print_Results()"
   ]
  },
  {
   "cell_type": "markdown",
   "metadata": {
    "slideshow": {
     "slide_type": ""
    },
    "tags": []
   },
   "source": [
    "Finally  we combine the normal model and the oscillation model and make a combined fit."
   ]
  },
  {
   "cell_type": "code",
   "execution_count": null,
   "metadata": {
    "slideshow": {
     "slide_type": ""
    },
    "tags": []
   },
   "outputs": [],
   "source": [
    "reload(func)\n",
    "ta1.mod=func.manconsec_oscil\n",
    "ta1.par=ta1.par_fit\n",
    "for key in ['f0','tk0','S0']:\n",
    "    ta1.par.add(key,value=ta2.par_fit[key].value)\n",
    "    ta1.par[key].vary=False\n",
    "ta1.par['S0'].min=0\n",
    "ta1.par['S0'].max=1\n",
    "ta1.Fit_Global()\n",
    "ta1.Plot_fit_output()"
   ]
  }
 ],
 "metadata": {
  "ipub": {
   "titlepage": {
    "author": "Jens Uhlig",
    "email": "jens.uhlig@chemphys.lu.se",
    "logo": "http://www.jensuhlig.de//hot_warm_cold.png",
    "subtitle": "Main Worksheet",
    "title": "Transient Absorption Worksheet"
   }
  },
  "kernelspec": {
   "display_name": "Python 3 (ipykernel)",
   "language": "python",
   "name": "python3"
  },
  "language_info": {
   "codemirror_mode": {
    "name": "ipython",
    "version": 3
   },
   "file_extension": ".py",
   "mimetype": "text/x-python",
   "name": "python",
   "nbconvert_exporter": "python",
   "pygments_lexer": "ipython3",
   "version": "3.11.9"
  }
 },
 "nbformat": 4,
 "nbformat_minor": 4
}
