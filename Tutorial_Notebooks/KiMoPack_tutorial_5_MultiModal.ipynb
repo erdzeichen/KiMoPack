{
 "cells": [
  {
   "cell_type": "markdown",
   "metadata": {},
   "source": [
    "# MultiModal Kinetic Modeling\n",
    "\n",
    "In this tutorial we will investigate how to simultaneously optimize transient optical and transient X-ray emission spectroscopy "
   ]
  },
  {
   "cell_type": "code",
   "execution_count": null,
   "metadata": {
    "scrolled": true
   },
   "outputs": [],
   "source": [
    "import os,sys\n",
    "import pandas as pd\n",
    "import numpy as np\n",
    "import matplotlib,lmfit\n",
    "import matplotlib.pyplot as plt\n",
    "import KiMoPack.plot_func as pf\n",
    "from importlib import reload\n",
    "reload(pf)\n",
    "%matplotlib tk"
   ]
  },
  {
   "cell_type": "markdown",
   "metadata": {},
   "source": [
    "## 1) Load Data\n"
   ]
  },
  {
   "cell_type": "code",
   "execution_count": null,
   "metadata": {},
   "outputs": [],
   "source": [
    "filepath = os.path.join(os.getcwd(), 'Data', 'MultiModal')  # set path to file to fit"
   ]
  },
  {
   "cell_type": "markdown",
   "metadata": {},
   "source": [
    "Prepare the transient optical data"
   ]
  },
  {
   "cell_type": "code",
   "execution_count": null,
   "metadata": {},
   "outputs": [],
   "source": [
    "ta=pf.TA(filename='combined_optical_spectrum.SIA',path=filepath)  #load transient optical\n",
    "plt.close('all')\n",
    "ta.Background()                                              # Remove the background before t=0\n",
    "ta.wavelength_bin=20                                        # width of wavelength bin in kinetics\n",
    "ta.wave_nm_bin=5;\n",
    "ta.ignore_time_region\n",
    "ta.rel_wave=np.concatenate([np.arange(300,572+25,25),np.arange(662,800,25)])# rebinning wavelength\n",
    "ta.timelimits=[-0.2,100]                                     # use to manually limit the range to plot (and fit)     \n",
    "ta.bordercut=[335,766]                                      # use to set the outer wavelength limits\n",
    "ta.scattercut=[572,662]                                     # this region is blanked out to block scatter, this can be a list of regions\n",
    "ta.intensity_range=1.2e-2                          # set a value 5e-3 or a range [-1e-3,5e-3] for 2d plotting\n",
    "ta.Plot_RAW()                                      # Plot Raw Spectra"
   ]
  },
  {
   "cell_type": "code",
   "execution_count": null,
   "metadata": {},
   "outputs": [],
   "source": [
    "import function_library as func"
   ]
  },
  {
   "cell_type": "code",
   "execution_count": null,
   "metadata": {},
   "outputs": [],
   "source": [
    "plt.close('all')                                             # Close old spectra\n",
    "ta.mod=func.P12                                        # Choose the model 'exponential', 'consecutive' and 'fast_consecutive'are build in\n",
    "par=lmfit.Parameters()                                       # create empty parameter object\n",
    "\n",
    "par.add('k0',value=1/0.275,vary=True)                                # Add second rate component\n",
    "par.add('k1',value=1/7.2,vary=True)                                # Add one rate component\n",
    "par.add('k2',value=1/3,vary=True)                                 # Add second rate component\n",
    "par.add('t0',value=-0.0167,min=-2,max=2,vary=False)                       # Allow the arrival time to adjust (for all)\n",
    "par.add('resolution',value=0.0935,min=0.04,max=0.5,vary=False)       # Allow the instrument response to adjust (for all)\n",
    "#par.add('explicit_GS')\n",
    "par.add('infinite')                                                # Keyword for an non decaying component\n",
    "#par.add('background')                                              # Keyword for an non decaying component                                             # Keyword to fit the Background Disable the background substraction in the loading cell for best effect\n",
    "ta.ignore_time_region=[-0.5,0.3]                                      # select time window in which to fit\n",
    "ta.log_fit=False                                               # fit in linear or log scale\n",
    "ta.timelimits=[-1,200]\n",
    "if 0:\n",
    "    for key in par.keys():\n",
    "        par[key].vary=False\n",
    "ta.par=par                                                     # write parameter object into file for fitting\n",
    "ta.Fit_Global()                                 # trigger fitting\n",
    "\n",
    "ta.error_matrix_amplification=10;                              # Choose how much stronger should error be plotted       \n",
    "ta.log_scale=False\n",
    "ta.Plot_fit_output([1,4])# \n",
    "#ta.Plot_fit_output(range(5))                                 # plot the fit output"
   ]
  },
  {
   "cell_type": "code",
   "execution_count": null,
   "metadata": {},
   "outputs": [],
   "source": [
    "plt.close('all')"
   ]
  },
  {
   "cell_type": "markdown",
   "metadata": {},
   "source": [
    "These results are terrible, mainly because the optical artifacts in the data are disturbing the system. Lets see what the XES is doing."
   ]
  },
  {
   "cell_type": "code",
   "execution_count": null,
   "metadata": {},
   "outputs": [],
   "source": [
    "xes=pf.TA('XES_on.SIA',path=filepath,sep=',',units='eV',sort_indexes=True,decimal='.',data_type='X-ray emission intensity',baseunit='ps')   #\n",
    "plt.close('all')\n",
    "xes.ds=pf.Frame_golay(xes.ds,7,1)\n",
    "xes.rel_wave=np.arange(7053,7061,1)      # use to manually select interesting wavelength for the kinetics\n",
    "xes.wavelength_bin=1                                        # width of wavelength bin in kinetics\n",
    "xes.rel_time=[-0.5,-0.1,0,0.1,0.3,0.5,1,1.5,3,5,10,15,20]      # use to manually set interesting times for the spectra\n",
    "xes.time_width_percent=0                                    # rebinning of time_points in percent\n",
    "xes.timelimits=[-1,200]                                     # use to manually limit the range to plot (and fit)     \n",
    "xes.log_scale=False                                         # use to plot the 2d plots with logarithmic intensity scale\n",
    "xes.bordercut=[7045,7065]                                      # use to set the outer wavelength limits\n",
    "xes.intensity_range=[0,7]                           # set a value 5e-3 or a range [-1e-3,5e-3] for 2d plotting\n",
    "xes.Plot_RAW()                                      # Plot Raw Spectra"
   ]
  },
  {
   "cell_type": "code",
   "execution_count": null,
   "metadata": {},
   "outputs": [],
   "source": [
    "plt.close('all')                                            \n",
    "xes.mod=func.P12                                       \n",
    "par=ta.par_fit                                       \n",
    "par['t0'].value=-0.0167                               \n",
    "par['resolution'].value=0.0935\n",
    "#par.add('explicit_GS')\n",
    "par.add('infinite')                                                # Keyword for an non decaying component\n",
    "par.add('background')                                             # Keyword to fit the Background Disable the background substraction in the loading cell for best effect\n",
    "\n",
    "if 0:\n",
    "    for key in par.keys():\n",
    "        par[key].vary=False\n",
    "xes.par=par                                                     # write parameter object into file for fitting\n",
    "xes.Fit_Global()                                 # trigger fitting\n",
    "xes.error_matrix_amplification=1;                              # Choose how much stronger should error be plotted                                                    # 2D plots in linear or log scale\n",
    "xes.Plot_fit_output()                                 # plot the fit output"
   ]
  },
  {
   "cell_type": "code",
   "execution_count": null,
   "metadata": {},
   "outputs": [],
   "source": [
    "xes.Background(uplimit=-0.25)\n",
    "xes.intensity_range=1\n",
    "try:\n",
    "    xes.par.pop('background')\n",
    "except:\n",
    "    pass\n",
    "xes.Fit_Global()\n",
    "plt.close('all')\n",
    "xes.Plot_fit_output()"
   ]
  },
  {
   "cell_type": "code",
   "execution_count": null,
   "metadata": {},
   "outputs": [],
   "source": [
    "weights=[1/ta.re['A'].abs().sum().sum(),1/xes.re['A'].abs().sum().sum()]\n",
    "print(weights)\n",
    "ta1=ta.Copy()\n",
    "xes1=xes.Copy()"
   ]
  },
  {
   "cell_type": "code",
   "execution_count": null,
   "metadata": {},
   "outputs": [],
   "source": [
    "ta1.par=ta.par_fit\n",
    "ta1.Fit_Global(multi_project=[xes1],same_DAS=False,same_shape_params=False,weights=weights,use_ampgo=True)\n",
    "ta1.Plot_fit_output()"
   ]
  },
  {
   "cell_type": "code",
   "execution_count": null,
   "metadata": {},
   "outputs": [],
   "source": [
    "xes1.par=ta1.par_fit\n",
    "for key in xes1.par.keys():\n",
    "    xes1.par[key].vary=False\n",
    "xes1.Fit_Global()\n",
    "plt.close('all')\n",
    "xes1.Plot_fit_output()"
   ]
  }
 ],
 "metadata": {
  "ipub": {
   "titlepage": {
    "author": "Jens Uhlig",
    "email": "jens.uhlig@chemphys.lu.se",
    "logo": "http://www.jensuhlig.de//hot_warm_cold.png",
    "subtitle": "Main Worksheet",
    "title": "Transient Absorption Worksheet"
   }
  },
  "kernelspec": {
   "display_name": "Python 3 (ipykernel)",
   "language": "python",
   "name": "python3"
  },
  "language_info": {
   "codemirror_mode": {
    "name": "ipython",
    "version": 3
   },
   "file_extension": ".py",
   "mimetype": "text/x-python",
   "name": "python",
   "nbconvert_exporter": "python",
   "pygments_lexer": "ipython3",
   "version": "3.11.9"
  }
 },
 "nbformat": 4,
 "nbformat_minor": 4
}
