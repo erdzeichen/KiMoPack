{
 "cells": [
  {
   "cell_type": "markdown",
   "metadata": {},
   "source": [
    "### Set standard imports"
   ]
  },
  {
   "cell_type": "code",
   "execution_count": null,
   "metadata": {},
   "outputs": [],
   "source": [
    "import matplotlib,lmfit\n",
    "import matplotlib.pyplot as plt\n",
    "import numpy as np\n",
    "import pandas as pd\n",
    "%matplotlib tk\n",
    "from importlib import reload\n",
    "#for more comfort use\n",
    "#%matplotlib qt\n",
    "import KiMoPack.plot_func as pf\n",
    "reload(pf)"
   ]
  },
  {
   "cell_type": "markdown",
   "metadata": {},
   "source": [
    "### Load Data and perform standard corrections"
   ]
  },
  {
   "cell_type": "code",
   "execution_count": null,
   "metadata": {},
   "outputs": [],
   "source": [
    "ta=pf.TA('sample_1.SIA',path='Data')   #type filename and path (leave path empty if in the same folder)\n",
    "#ta=pf.TA('sample_1.hdf5',path='Data')  #reload saved projects using the same syntax\n",
    "#ta=pf.TA('gui')                       #use a GUI to select data\n",
    "ta.Filter_data(value=20)               #remove bad data\n",
    "ta.Cor_Chirp()                         #correct for arrival time difference ta.Cor_Chirp('gui') allows to choose file \n",
    "ta.Background(uplimit=-0.5)           #substract Background before time_zero"
   ]
  },
  {
   "cell_type": "markdown",
   "metadata": {},
   "source": [
    "### Set parameter for plotting and plot the usual spectra"
   ]
  },
  {
   "cell_type": "code",
   "execution_count": null,
   "metadata": {},
   "outputs": [],
   "source": [
    "plt.close('all')\n",
    "#ta.rel_wave=[390,420,440,530,580,700,800,950,930,1050]   # use to manually select interesting wavelength for the kinetics\n",
    "ta.rel_wave=np.arange(360,850,50) \n",
    "ta.wavelength_bin=10                                      # width of wavelength bin in kinetics\n",
    "ta.wave_nm_bin=5;                                         # rebinning wavelength\n",
    "#ta.rel_time=[0.3,0.4,1,3,5,10,20,30,100,300,2000,]       # use to manually set interesting times for the spectra\n",
    "ta.time_width_percent=0                                   # rebinning of time_points in percent\n",
    "ta.timelimits=[-1,5000]                                   # use to manually limit the range to plot (and fit)     \n",
    "ta.log_scale=False                                        # use to plot the 2d plots with logarithmic intensity scale\n",
    "ta.bordercut=[350,1100]                                   # use to set the outer wavelength limits\n",
    "ta.scattercut=[522,605]                                   # this region is blanked out to block scatter, this can be a list\n",
    "ta.intensity_range=[-0.1e-3,3.2e-3]                       # set a value 5e-3 or a range [-1e-3,5e-3] for 2d plotting\n",
    "ta.Plot_RAW()                                             # Plot Raw Spectra"
   ]
  },
  {
   "cell_type": "markdown",
   "metadata": {},
   "source": [
    "### Commonly used saving options"
   ]
  },
  {
   "cell_type": "code",
   "execution_count": null,
   "metadata": {},
   "outputs": [],
   "source": [
    "ta.Save_project()          # This saves the whole project including raw data, fits and chirp correction into a single file"
   ]
  },
  {
   "cell_type": "code",
   "execution_count": null,
   "metadata": {},
   "outputs": [],
   "source": [
    "ta.Save_Plots(savetype='png')         # This saves all the figures and a overview powerpoint savetype=['png','svg']"
   ]
  },
  {
   "cell_type": "markdown",
   "metadata": {},
   "source": [
    "### Sometimes required options"
   ]
  },
  {
   "cell_type": "code",
   "execution_count": null,
   "metadata": {},
   "outputs": [],
   "source": [
    "ta.Man_Chirp()                   # used to redo the chirp-correction\n",
    "ta.Save_data()                   # used to dump the Data and fits to disk\n",
    "\n",
    "ta.cmap=pf.cm.viridis            # use different colour scheme (can also be a list of colours)\n",
    "pf.changefonts(weight='bold',font='standard',SMALL_SIZE=11,MEDIUM_SIZE=13,LARGE_SIZE=18)       "
   ]
  }
 ],
 "metadata": {
  "ipub": {
   "titlepage": {
    "author": "Jens Uhlig",
    "email": "jens.uhlig@chemphys.lu.se",
    "logo": "http://www.jensuhlig.de//hot_warm_cold.png",
    "subtitle": "Main Worksheet",
    "title": "Transient Absorption Worksheet"
   }
  },
  "kernelspec": {
   "display_name": "Python 3 (ipykernel)",
   "language": "python",
   "name": "python3"
  },
  "language_info": {
   "codemirror_mode": {
    "name": "ipython",
    "version": 3
   },
   "file_extension": ".py",
   "mimetype": "text/x-python",
   "name": "python",
   "nbconvert_exporter": "python",
   "pygments_lexer": "ipython3",
   "version": "3.11.9"
  }
 },
 "nbformat": 4,
 "nbformat_minor": 4
}
