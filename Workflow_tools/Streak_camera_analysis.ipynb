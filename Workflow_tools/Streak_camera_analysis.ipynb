{
 "cells": [
  {
   "cell_type": "markdown",
   "metadata": {},
   "source": [
    "### Set standard imports"
   ]
  },
  {
   "cell_type": "code",
   "execution_count": null,
   "metadata": {},
   "outputs": [],
   "source": [
    "import matplotlib,lmfit\n",
    "import matplotlib.pyplot as plt\n",
    "import numpy as np\n",
    "import pandas as pd\n",
    "\n",
    "import KiMoPack.plot_func as pf\n",
    "from importlib import reload\n",
    "reload(pf)\n",
    "import import_library as il\n",
    "reload(il)\n"
   ]
  },
  {
   "cell_type": "code",
   "execution_count": 2,
   "metadata": {},
   "outputs": [],
   "source": [
    "ta=pf.TA('gui',conversion_function=il.cor_streak_lund)\n",
    "#ta=pf.TA('recent',conversion_function=il.cor_streak_lund)\n",
    "#ta=pf.TA('FeCM02-266nm-4mw-QB390-t6-G63-w450-s150-556ms-E100.dat',conversion_function=il.streak_Lund,path='Data') #use "
   ]
  },
  {
   "cell_type": "code",
   "execution_count": null,
   "metadata": {},
   "outputs": [],
   "source": [
    "# Coarse adjustment\n",
    "ta.intensity_range=[0,ta.ds.mean().max()]\n",
    "if 0: # set to 1 for adjusting the zero point with a GUI\n",
    "    %matplotlib tk\n",
    "    ta.timelimits=[ta.ds.index.values.min(),ta.ds.index.values.max()]\n",
    "    ta.Cor_Chirp(shown_window=ta.timelimits,just_shift=True,cmap=pf.cm.jet)\n",
    "    if 0: # set to 1 for fine adjustment\n",
    "        shown_window=np.array([-50,50])+ta.fitcoeff[-1]\n",
    "        ta.Man_Chirp(shown_window=shown_window,just_shift=True,cmap=pf.cm.jet)\n",
    "else: #use a manual plot to select t0\n",
    "    %matplotlib inline\n",
    "    pf.halfsize=True\n",
    "    pf.changefonts()\n",
    "    ta.Plot_RAW([0,1])\n",
    "    t0=206\n",
    "    ta.Cor_Chirp(fitcoeff=[0,0,0,0,t0])"
   ]
  },
  {
   "cell_type": "code",
   "execution_count": null,
   "metadata": {},
   "outputs": [],
   "source": [
    "plt.close('all')\n",
    "#ta.Background(uplimit=5,lowlimit=-100)\n",
    "#ta.rel_wave=np.arange(480,560,10)#[400,410,420,460,480]\n",
    "#ta.bordercut=[470,560]\n",
    "#ta.rel_time=[-10,10,30,100,200,300,1000,1500]\n",
    "#ta.timelimits=[1,1810]\n",
    "#ta.wave_nm_bin=None\n",
    "#ta.wavelength_bin=10\n",
    "#ta.log_scale=False\n",
    "#ta.intensity_range=[-2e3,3e4]\n",
    "ta.Plot_RAW(range(3),scale_type='log')"
   ]
  },
  {
   "cell_type": "markdown",
   "metadata": {},
   "source": [
    "### Perform fast fitting using independent exponential decay (first order)"
   ]
  },
  {
   "cell_type": "code",
   "execution_count": null,
   "metadata": {},
   "outputs": [],
   "source": [
    "plt.close('all')                       # Close old spectra\n",
    "ta.mod='exponential'                   # Choose the model \n",
    "par=lmfit.Parameters()                 # create empty parameter object\n",
    "par.add('k0',value=1/10,vary=True,min=1/100)      # Add second rate component\n",
    "par.add('k1',value=1/500,vary=True)   # Add one rate component\n",
    "par.add('t0',value=0.28,vary=True) # Allow the arrival time to adjust (for all)\n",
    "par.add('resolution',value=67,vary=True)       # Allow the instrument response to adjust (for all)\n",
    "#par.add('infinite')                      # Keyword for an non decaying component\n",
    "par.add('background')                    # Keyword to fit the Background \n",
    "ta.par=par                               # write parameter object \n",
    "ta.Fit_Global(fit_chirp=False)           # trigger fitting\n",
    "\n",
    "ta.error_matrix_amplification=1\n",
    "ta.Plot_fit_output([0,1,2,4])            # plot the fit output"
   ]
  },
  {
   "cell_type": "code",
   "execution_count": null,
   "metadata": {},
   "outputs": [],
   "source": [
    "pf.halfsize=False\n",
    "pf.changefonts()\n",
    "ta.Save_Powerpoint()\n",
    "pf.halfsize=True\n",
    "pf.changefonts()"
   ]
  },
  {
   "cell_type": "markdown",
   "metadata": {},
   "source": [
    "### Perform Error analysis and calculate confidence interval"
   ]
  },
  {
   "cell_type": "code",
   "execution_count": null,
   "metadata": {},
   "outputs": [],
   "source": [
    "ta.par=ta.par_fit #write the best results back as starting parameter\n",
    "ta.Fit_Global(confidence_level=0.66)"
   ]
  },
  {
   "cell_type": "code",
   "execution_count": null,
   "metadata": {},
   "outputs": [],
   "source": [
    "plt.close('all')\n",
    "ta.mod='consecutive'             # very quick fit using independent exponential followed by one round of sequential\n",
    "ta.par=ta.par_fit                # copy fitted parameter into a new fit (e.g. different model)\n",
    "ta.Fit_Global()   # The iterative chrip is best optimised using 'exponential'\n",
    "ta.Plot_fit_output([0,1,2,4])     # plot the fit output"
   ]
  },
  {
   "cell_type": "code",
   "execution_count": null,
   "metadata": {},
   "outputs": [],
   "source": []
  }
 ],
 "metadata": {
  "ipub": {
   "titlepage": {
    "author": "Jens Uhlig",
    "email": "jens.uhlig@chemphys.lu.se",
    "logo": "http://www.jensuhlig.de//hot_warm_cold.png",
    "subtitle": "Main Worksheet",
    "title": "Transient Absorption Worksheet"
   }
  },
  "kernelspec": {
   "display_name": "base",
   "language": "python",
   "name": "python3"
  },
  "language_info": {
   "codemirror_mode": {
    "name": "ipython",
    "version": 3
   },
   "file_extension": ".py",
   "mimetype": "text/x-python",
   "name": "python",
   "nbconvert_exporter": "python",
   "pygments_lexer": "ipython3",
   "version": "3.11.5"
  }
 },
 "nbformat": 4,
 "nbformat_minor": 2
}
