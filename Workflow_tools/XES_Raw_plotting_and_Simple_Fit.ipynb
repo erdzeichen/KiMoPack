{
 "cells": [
  {
   "cell_type": "markdown",
   "metadata": {},
   "source": [
    "### Set standard imports"
   ]
  },
  {
   "cell_type": "code",
   "execution_count": null,
   "metadata": {},
   "outputs": [],
   "source": [
    "import matplotlib,lmfit\n",
    "import matplotlib.pyplot as plt\n",
    "import numpy as np\n",
    "import pandas as pd\n",
    "%matplotlib tk\n",
    "#for more comfort use\n",
    "#%matplotlib qt\n",
    "import KiMoPack.plot_func as pf\n",
    "from importlib import reload\n",
    "reload(pf)"
   ]
  },
  {
   "cell_type": "markdown",
   "metadata": {},
   "source": [
    "### Load and inspect Data "
   ]
  },
  {
   "cell_type": "code",
   "execution_count": null,
   "metadata": {},
   "outputs": [],
   "source": [
    "ta=pf.TA('XES_on.SIA',path='Data',sep=',',units='eV',sort_indexes=True,decimal='.',data_type='X-ray emission intensity',baseunit='ps')   #type filename and path (leave path empty if in the same folder)\n",
    "#ta=pf.TA('XES_diff.SIA',path='Data',sep=',',units='eV',sort_indexes=True,decimal='.',data_type='X-ray emission differential')\n",
    "#ta=pf.TA(\"sample_1.hdf5\",path=\"Data\")  #reload saved projects using the same syntax\n",
    "#ta=pf.TA('gui')                       #use a GUI to select data"
   ]
  },
  {
   "cell_type": "markdown",
   "metadata": {},
   "source": [
    "### Shape data and plot Raw images"
   ]
  },
  {
   "cell_type": "code",
   "execution_count": null,
   "metadata": {},
   "outputs": [],
   "source": [
    "plt.close('all')\n",
    "ta.rel_wave=np.arange(7053,7061,1)      # use to manually select interesting wavelength for the kinetics\n",
    "ta.wavelength_bin=1                                        # width of wavelength bin in kinetics\n",
    "ta.rel_time=[-0.5,-0.1,0,0.1,0.3,0.5,1,1.5,3,5,10,15,20]      # use to manually set interesting times for the spectra\n",
    "ta.time_width_percent=0                                    # rebinning of time_points in percent\n",
    "ta.timelimits=[-1,200]                                     # use to manually limit the range to plot (and fit)     \n",
    "ta.log_scale=False                                         # use to plot the 2d plots with logarithmic intensity scale\n",
    "ta.bordercut=[7045,7065]                                      # use to set the outer wavelength limits\n",
    "#ta.scattercut=[522,605]                                     # this region is blanked out to block scatter, this can be a list of regions\n",
    "ta.intensity_range=[0,7]                           # set a value 5e-3 or a range [-1e-3,5e-3] for 2d plotting\n",
    "ta.Plot_RAW([0,3])                                      # Plot Raw Spectra"
   ]
  },
  {
   "cell_type": "markdown",
   "metadata": {},
   "source": [
    "## Apply some gentle smoothing?"
   ]
  },
  {
   "cell_type": "code",
   "execution_count": null,
   "metadata": {},
   "outputs": [],
   "source": [
    "if 1:\n",
    "    ta.ds=pf.Frame_golay(ta.ds,7,3)\n",
    "    #ta.Plot_RAW() "
   ]
  },
  {
   "cell_type": "markdown",
   "metadata": {},
   "source": [
    "### Perform fast fitting using independent exponential decay (first order)"
   ]
  },
  {
   "cell_type": "code",
   "execution_count": null,
   "metadata": {},
   "outputs": [],
   "source": [
    "import function_library as func\n",
    "reload(func)"
   ]
  },
  {
   "cell_type": "code",
   "execution_count": null,
   "metadata": {},
   "outputs": [],
   "source": [
    "plt.close('all')                                             # Close old spectra\n",
    "ta.mod=func.P12                                        # Choose the model 'exponential', 'consecutive' and 'fast_consecutive'are build in\n",
    "par=lmfit.Parameters()                                       # create empty parameter object\n",
    "\n",
    "par.add('k0',value=1/0.275,vary=True)                                # Add second rate component\n",
    "par.add('k1',value=1/7.2,vary=True)                                # Add one rate component\n",
    "par.add('k2',value=1/0.45,vary=True)                                 # Add second rate component\n",
    "par.add('t0',value=-0.0167,min=-2,max=2,vary=False)                       # Allow the arrival time to adjust (for all)\n",
    "par.add('resolution',value=0.0935,min=0.04,max=0.5,vary=False)       # Allow the instrument response to adjust (for all)\n",
    "par.add('explicit_GS')\n",
    "#par.add('infinite')                                                # Keyword for an non decaying component\n",
    "par.add('background')                                             # Keyword to fit the Background Disable the background substraction in the loading cell for best effect\n",
    "ta.log_fit=False                                               # fit in linear or log scale\n",
    "if 0:\n",
    "    for key in par.keys():\n",
    "        par[key].vary=False\n",
    "ta.par=par                                                     # write parameter object into file for fitting\n",
    "ta.Fit_Global()                                 # trigger fitting\n",
    "ta.error_matrix_amplification=10;                              # Choose how much stronger should error be plotted                                                    # 2D plots in linear or log scale\n",
    "ta.Plot_fit_output()                                 # plot the fit output"
   ]
  },
  {
   "cell_type": "markdown",
   "metadata": {},
   "source": [
    "### Calculate the absolute spectra"
   ]
  },
  {
   "cell_type": "code",
   "execution_count": null,
   "metadata": {},
   "outputs": [],
   "source": [
    "for col in ta.re['DAC'].columns:\n",
    "    ta.re['DAC'].loc[:,col]+=ta.re['DAC'].background\n",
    "ta.re['DAC']=ta.re['DAC'].drop('background',axis=1)\n",
    "ta.Plot_fit_output(0)"
   ]
  },
  {
   "cell_type": "code",
   "execution_count": null,
   "metadata": {},
   "outputs": [],
   "source": [
    "ta.Save_Powerpoint()"
   ]
  }
 ],
 "metadata": {
  "ipub": {
   "titlepage": {
    "author": "Jens Uhlig",
    "email": "jens.uhlig@chemphys.lu.se",
    "logo": "http://www.jensuhlig.de//hot_warm_cold.png",
    "subtitle": "Main Worksheet",
    "title": "Transient Absorption Worksheet"
   }
  },
  "kernelspec": {
   "display_name": "Python 3 (ipykernel)",
   "language": "python",
   "name": "python3"
  },
  "language_info": {
   "codemirror_mode": {
    "name": "ipython",
    "version": 3
   },
   "file_extension": ".py",
   "mimetype": "text/x-python",
   "name": "python",
   "nbconvert_exporter": "python",
   "pygments_lexer": "ipython3",
   "version": "3.11.9"
  }
 },
 "nbformat": 4,
 "nbformat_minor": 4
}
