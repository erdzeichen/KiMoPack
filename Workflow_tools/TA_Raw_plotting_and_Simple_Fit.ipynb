{
 "cells": [
  {
   "cell_type": "markdown",
   "metadata": {},
   "source": [
    "### Set standard imports"
   ]
  },
  {
   "cell_type": "code",
   "execution_count": 36,
   "metadata": {},
   "outputs": [
    {
     "name": "stdout",
     "output_type": "stream",
     "text": [
      "Plot_func version 7.12.0\n",
      "was imported from path:\n",
      " C:\\Users\\Jens\\anaconda3\\Lib\\site-packages\\KiMoPack\n",
      "The current working folder is:\n",
      " d:\\Dropbox\\coding\\github\\KiMoPack\\Workflow_tools\n"
     ]
    },
    {
     "data": {
      "text/plain": [
       "<module 'KiMoPack.plot_func' from 'C:\\\\Users\\\\Jens\\\\anaconda3\\\\Lib\\\\site-packages\\\\KiMoPack\\\\plot_func.py'>"
      ]
     },
     "execution_count": 36,
     "metadata": {},
     "output_type": "execute_result"
    }
   ],
   "source": [
    "import matplotlib,lmfit\n",
    "import matplotlib.pyplot as plt\n",
    "import numpy as np\n",
    "import pandas as pd\n",
    "%matplotlib tk\n",
    "#for more comfort use\n",
    "#%matplotlib qt\n",
    "import KiMoPack.plot_func as pf\n",
    "from importlib import reload\n",
    "reload(pf)"
   ]
  },
  {
   "cell_type": "markdown",
   "metadata": {},
   "source": [
    "### Load and inspect Data "
   ]
  },
  {
   "cell_type": "code",
   "execution_count": 35,
   "metadata": {},
   "outputs": [
    {
     "name": "stderr",
     "output_type": "stream",
     "text": [
      "C:\\Users\\Jens\\anaconda3\\Lib\\site-packages\\KiMoPack\\plot_func.py:5493: FutureWarning: DataFrame.applymap has been deprecated. Use DataFrame.map instead.\n",
      "  if (self.ds_ori.applymap(type) == float).all().all():\n"
     ]
    }
   ],
   "source": [
    "ta=pf.TA('sample_1.SIA',path='Data')   #type filename and path (leave path empty if in the same folder)\n",
    "#ta=pf.TA(\"sample_1.hdf5\",path=\"Data\")  #reload saved projects using the same syntax\n",
    "#ta=pf.TA('gui')                       #use a GUI to select data"
   ]
  },
  {
   "cell_type": "markdown",
   "metadata": {},
   "source": [
    "### perform standard corrections"
   ]
  },
  {
   "cell_type": "code",
   "execution_count": 37,
   "metadata": {},
   "outputs": [
    {
     "name": "stdout",
     "output_type": "stream",
     "text": [
      "[-9.24533939e-12  3.47541919e-08 -4.84152198e-05  2.97604894e-02\n",
      " -6.46267990e+00]\n"
     ]
    }
   ],
   "source": [
    "ta.Filter_data(value=21)               #remove bad data here everything above abs=21 is considered bad comment out if not needed\n",
    "ta.intensity_range=ta.ds.describe().median(axis=1)['75%']*2\n",
    "ta.Cor_Chirp() #correct for arrival time difference ta.Cor_Chirp('gui') allows to choose file "
   ]
  },
  {
   "cell_type": "markdown",
   "metadata": {},
   "source": [
    "### Shape data and plot Raw images"
   ]
  },
  {
   "cell_type": "code",
   "execution_count": 38,
   "metadata": {},
   "outputs": [
    {
     "data": {
      "text/plain": [
       "{'RAW_MAT': <Figure size 1000x600 with 2 Axes>,\n",
       " 'RAW_SEL': <Figure size 1000x600 with 1 Axes>,\n",
       " 'RAW_SPEK': <Figure size 1000x600 with 2 Axes>,\n",
       " 'RAW_SVD': <Figure size 800x800 with 3 Axes>}"
      ]
     },
     "execution_count": 38,
     "metadata": {},
     "output_type": "execute_result"
    }
   ],
   "source": [
    "plt.close('all')\n",
    "ta.Background()                                              # Remove the background before t=0\n",
    "#ta.rel_wave=[390,420,440,530,580,700,800,950,930,1050]      # use to manually select interesting wavelength for the kinetics\n",
    "ta.wavelength_bin=20                                        # width of wavelength bin in kinetics\n",
    "#ta.wave_nm_bin=5;                                           # rebinning wavelength\n",
    "#ta.rel_time=[0.3,0.4,1,3,5,10,20,30,100,300,2000,3000]      # use to manually set interesting times for the spectra\n",
    "ta.time_width_percent=10                                    # rebinning of time_points in percent\n",
    "ta.timelimits=[-1,5000]                                     # use to manually limit the range to plot (and fit)     \n",
    "#ta.log_scale=False                                          # use to plot the 2d plots with logarithmic intensity scale\n",
    "ta.bordercut=[400,1100]                                      # use to set the outer wavelength limits\n",
    "ta.scattercut=[522,605]                                     # this region is blanked out to block scatter, this can be a list of regions\n",
    "ta.intensity_range=None#[0,3e-3]                            # set a value 5e-3 or a range [-1e-3,5e-3] for 2d plotting\n",
    "ta.Plot_RAW(title=None,return_figures_handles=True)                                      # Plot Raw Spectra"
   ]
  },
  {
   "cell_type": "markdown",
   "metadata": {},
   "source": [
    "### Perform fast fitting using independent exponential decay (first order)"
   ]
  },
  {
   "cell_type": "code",
   "execution_count": 39,
   "metadata": {},
   "outputs": [
    {
     "name": "stdout",
     "output_type": "stream",
     "text": [
      "Optimizing, after the starting error the new error values will be displayed every 30s\n",
      "\n",
      "Fit Results:\n",
      "Model Used: exponential\n",
      "\n",
      "the time between -0.100 ps and 0.500 ps was excluded from the optimization\n",
      "\n",
      "The minimum error is:4.99995720e-05\n",
      "The minimum R2-value is:9.95554814e-01\n",
      "\n",
      "In Rates\n",
      "\n",
      "+------------+-------------+--------------+--------+-------+-------+--------+\n",
      "|            |       value |   init_value | vary   |   min |   max | expr   |\n",
      "+============+=============+==============+========+=======+=======+========+\n",
      "| k0         | 0.336022    |       10     | True   |  0    | inf   |        |\n",
      "+------------+-------------+--------------+--------+-------+-------+--------+\n",
      "| k1         | 0.0158201   |        0.4   | True   |  0    | inf   |        |\n",
      "+------------+-------------+--------------+--------+-------+-------+--------+\n",
      "| k2         | 2.22045e-16 |        0.025 | True   |  0    | inf   |        |\n",
      "+------------+-------------+--------------+--------+-------+-------+--------+\n",
      "| t0         | 0           |        0     | False  | -2    |   2   |        |\n",
      "+------------+-------------+--------------+--------+-------+-------+--------+\n",
      "| resolution | 0.086       |        0.086 | False  |  0.04 |   0.5 |        |\n",
      "+------------+-------------+--------------+--------+-------+-------+--------+\n",
      "\n",
      "The rates converted to times with unit ps\n",
      "\n",
      "+------------+-------------+--------------+--------+-------+-------+--------+\n",
      "|            |       value |   init_value | vary   |   min |   max | expr   |\n",
      "+============+=============+==============+========+=======+=======+========+\n",
      "| k0         |  2.97599    |        0.1   | True   |  0    | inf   |        |\n",
      "+------------+-------------+--------------+--------+-------+-------+--------+\n",
      "| k1         | 63.2106     |        2.5   | True   |  0    | inf   |        |\n",
      "+------------+-------------+--------------+--------+-------+-------+--------+\n",
      "| k2         |  4.5036e+15 |       40     | True   |  0    | inf   |        |\n",
      "+------------+-------------+--------------+--------+-------+-------+--------+\n",
      "| t0         |  0          |        0     | False  | -2    |   2   |        |\n",
      "+------------+-------------+--------------+--------+-------+-------+--------+\n",
      "| resolution |  0.086      |        0.086 | False  |  0.04 |   0.5 |        |\n",
      "+------------+-------------+--------------+--------+-------+-------+--------+\n"
     ]
    },
    {
     "data": {
      "text/plain": [
       "{'DAC': <Figure size 1200x500 with 3 Axes>,\n",
       " 'SUM': <Figure size 1800x500 with 6 Axes>,\n",
       " 'SEL': <Figure size 1500x600 with 1 Axes>,\n",
       " 'SPEC': <Figure size 1500x600 with 3 Axes>,\n",
       " 'FIG_MAT': <Figure size 900x1100 with 6 Axes>,\n",
       " 'concentrations': <Figure size 1200x600 with 6 Axes>,\n",
       " 'RESIDUAL': <Figure size 1200x600 with 1 Axes>}"
      ]
     },
     "execution_count": 39,
     "metadata": {},
     "output_type": "execute_result"
    }
   ],
   "source": [
    "ta.wave_nm_bin=2; \n",
    "plt.close('all')                                             # Close old spectra\n",
    "ta.mod='exponential'                                        # Choose the model 'exponential', 'consecutive' and 'fast_consecutive'are build in\n",
    "par=lmfit.Parameters()                                       # create empty parameter object\n",
    "\n",
    "par.add('k0',value=1/0.1,vary=True)                                # Add second rate component\n",
    "par.add('k1',value=1/2.5,vary=True)                                # Add one rate component\n",
    "par.add('k2',value=1/40,vary=True)                                 # Add second rate component\n",
    "par.add('t0',value=0,min=-2,max=2,vary=False)                       # Allow the arrival time to adjust (for all)\n",
    "par.add('resolution',value=0.086,min=0.04,max=0.5,vary=False)       # Allow the instrument response to adjust (for all)\n",
    "#par.add('explicit_GS')\n",
    "#par.add('infinite')                                                # Keyword for an non decaying component\n",
    "#par.add('background')                                             # Keyword to fit the Background Disable the background substraction in the loading cell for best effect\n",
    "#ta.timelimits=[0.2,5000]                                      # select time window in which to fit\n",
    "ta.ignore_time_region=[-0.1,0.5]                              # ignore the region over t0 for the fit\n",
    "ta.log_fit=False                                               # fit in linear or log scale\n",
    "if 0:\n",
    "    for key in par.keys():\n",
    "        par[key].vary=False\n",
    "ta.par=par                                                     # write parameter object into file for fitting\n",
    "ta.Fit_Global()                                 # trigger fitting\n",
    "\n",
    "ta.error_matrix_amplification=10;                              # Choose how much stronger should error be plotted       \n",
    "ta.log_scale=False                                             # 2D plots in linear or log scale\n",
    "ta.Plot_fit_output(return_figures_handles=True)                                 # plot the fit output"
   ]
  },
  {
   "cell_type": "code",
   "execution_count": 12,
   "metadata": {},
   "outputs": [
    {
     "name": "stdout",
     "output_type": "stream",
     "text": [
      "The images and a powerpoint was saved to c:\\Users\\jensu\\Dropbox\\coding\\github\\KiMoPack\\Workflow_tools\\Data\\result_figures\n"
     ]
    }
   ],
   "source": [
    "ta.Save_Powerpoint()"
   ]
  },
  {
   "cell_type": "code",
   "execution_count": null,
   "metadata": {},
   "outputs": [],
   "source": [
    "par=lmfit.Parameters() \n",
    "par.add('k0',value=1/0.1,vary=True)                                \n",
    "par.add('k1',value=1/2.5,vary=True)\n",
    "par.add('k2',value=1/100,vary=True)\n",
    "par.add('infinite')                               \n",
    "par.add('t0',value=0,min=-2,max=2,vary=False)                 \n",
    "par.add('resolution',value=0.086,min=0.04,max=0.5,vary=False)\n",
    "ta.par=par # write parameter object into file for fitting\n",
    "ta.Fit_Global(fit_chirp=False,confidence_level=0.95) "
   ]
  },
  {
   "cell_type": "code",
   "execution_count": null,
   "metadata": {},
   "outputs": [],
   "source": [
    "plt.close('all')\n",
    "ta.cmap=pf.cm.gist_ncar\n",
    "ta.intensity_range=3e-3\n",
    "ta.Plot_fit_output()"
   ]
  },
  {
   "cell_type": "markdown",
   "metadata": {},
   "source": [
    "### export the results as images and save the project"
   ]
  },
  {
   "cell_type": "code",
   "execution_count": null,
   "metadata": {},
   "outputs": [],
   "source": [
    "#ta.filename='new'+ta.filename\n",
    "ta.Save_project()                     # This saves the whole project including raw data, fits and chirp correction into a single file"
   ]
  },
  {
   "cell_type": "code",
   "execution_count": null,
   "metadata": {},
   "outputs": [],
   "source": [
    "ta.Save_Plots(savetype='png')         # This saves all the figures and a overview powerpoint savetype=['png','svg']"
   ]
  },
  {
   "cell_type": "markdown",
   "metadata": {},
   "source": [
    "### Perform Error analysis and calculate confidence interval"
   ]
  },
  {
   "cell_type": "code",
   "execution_count": null,
   "metadata": {},
   "outputs": [],
   "source": [
    "ta.par=ta.par_fit #write the best results back as starting parameter\n",
    "ta.Fit_Global(confidence_level=0.65)"
   ]
  },
  {
   "cell_type": "markdown",
   "metadata": {},
   "source": [
    "### Perform fast iterative fitting using independent exponential decay and optimise the chirp"
   ]
  },
  {
   "cell_type": "code",
   "execution_count": null,
   "metadata": {},
   "outputs": [],
   "source": [
    "ta1=ta.Copy()                          # Make a copy of the fitting ptoject to test less stable things\n",
    "ta1.timelimits=None                    # To optimise the chirp the region around time-zero must be included\n",
    "ta1.ignore_time_region=None            # To optimise the chirp the region around time-zero must be included\n",
    "ta1.par=ta.par_fit                     # copy fitted parameter into a new fit (e.g. different model)\n",
    "ta1.Fit_Global(fit_chirp=True)         # trigger fitting with Chirp optimization best using 'exponential' for speed\n",
    "ta1.Plot_fit_output(title=None)        # plot the fit output"
   ]
  },
  {
   "cell_type": "code",
   "execution_count": null,
   "metadata": {},
   "outputs": [],
   "source": [
    "ta=ta1.Copy() # if successful they can always be written back"
   ]
  },
  {
   "cell_type": "markdown",
   "metadata": {},
   "source": [
    "### Perform fast fitting using consecutative exponential decay to obtain species associated spectrum assuming a simple model"
   ]
  },
  {
   "cell_type": "code",
   "execution_count": null,
   "metadata": {},
   "outputs": [],
   "source": [
    "plt.close('all')\n",
    "ta.mod='consecutive'             # very quick fit using independent exponential followed by one round of sequential\n",
    "ta.par=ta.par_fit                # copy fitted parameter into a new fit (e.g. different model)\n",
    "#ta.par.add('explicit_GS')\n",
    "ta.Fit_Global(fit_chirp=False)   # The iterative chrip is best optimised using 'exponential'\n",
    "ta.Plot_fit_output(title=None)   # plot the fit output"
   ]
  },
  {
   "cell_type": "code",
   "execution_count": null,
   "metadata": {},
   "outputs": [],
   "source": [
    "ta.par=ta.par_fit\n",
    "ta.mod='full_consecutive'        # Truely consecutative fitting, usually much slower\n",
    "ta.Fit_Global(fit_chirp=False)   \n",
    "ta.Plot_fit_output(title=None)"
   ]
  },
  {
   "cell_type": "markdown",
   "metadata": {},
   "source": [
    "### Sometimes required options applicable also to fit plotting"
   ]
  },
  {
   "cell_type": "code",
   "execution_count": null,
   "metadata": {},
   "outputs": [],
   "source": [
    "#ta.Man_Chirp()                   # used to redo the chirp-correction\n",
    "#ta.Save_data()                   # used to dump the Data and fits to disk\n",
    "\n",
    "#ta.cmap=pf.cm.viridis            # use different colour scheme (can also be a list of colours)\n",
    "#pf.changefonts(weight='bold',font='standard',SMALL_SIZE=18,MEDIUM_SIZE=18,LARGE_SIZE=18)  "
   ]
  },
  {
   "cell_type": "code",
   "execution_count": null,
   "metadata": {},
   "outputs": [],
   "source": [
    "ta.Save_Powerpoint()"
   ]
  }
 ],
 "metadata": {
  "ipub": {
   "titlepage": {
    "author": "Jens Uhlig",
    "email": "jens.uhlig@chemphys.lu.se",
    "logo": "http://www.jensuhlig.de//hot_warm_cold.png",
    "subtitle": "Main Worksheet",
    "title": "Transient Absorption Worksheet"
   }
  },
  "kernelspec": {
   "display_name": "Python 3 (ipykernel)",
   "language": "python",
   "name": "python3"
  },
  "language_info": {
   "codemirror_mode": {
    "name": "ipython",
    "version": 3
   },
   "file_extension": ".py",
   "mimetype": "text/x-python",
   "name": "python",
   "nbconvert_exporter": "python",
   "pygments_lexer": "ipython3",
   "version": "3.11.9"
  }
 },
 "nbformat": 4,
 "nbformat_minor": 4
}
