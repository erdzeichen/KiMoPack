{
 "cells": [
  {
   "cell_type": "markdown",
   "metadata": {},
   "source": [
    "### Set standard imports"
   ]
  },
  {
   "cell_type": "code",
   "execution_count": null,
   "metadata": {},
   "outputs": [],
   "source": [
    "import matplotlib,lmfit,os,sys\n",
    "import matplotlib.pyplot as plt\n",
    "import numpy as np\n",
    "%matplotlib tk\n",
    "#for more comfort use\n",
    "#%matplotlib qt\n",
    "import KiMoPack.plot_func as pf\n",
    "from importlib import reload\n",
    "#reload(pf)"
   ]
  },
  {
   "cell_type": "markdown",
   "metadata": {},
   "source": [
    "### Load Data and perform standard corrections"
   ]
  },
  {
   "cell_type": "code",
   "execution_count": null,
   "metadata": {},
   "outputs": [],
   "source": [
    "ta=pf.TA('sample_1.hdf5',path='Data')  #reload saved projects using the same syntax, this reloads the parameter too"
   ]
  },
  {
   "cell_type": "markdown",
   "metadata": {},
   "source": [
    "### Perform deeper fitting using external fitting function"
   ]
  },
  {
   "cell_type": "code",
   "execution_count": null,
   "metadata": {},
   "outputs": [],
   "source": [
    "import function_library as func                      # load the file with the example functions. must be in the active folder\n",
    "reload(func)                                              # usefull if you play with the function"
   ]
  },
  {
   "cell_type": "code",
   "execution_count": null,
   "metadata": {},
   "outputs": [],
   "source": [
    "plt.close('all')\n",
    "ta.mod=func.P12                            # if you want to use function P12 from the standard function library\n",
    "#ta.mod=func.consec_oscil                  # if you want to fit consecutive and osciallations\n",
    "par=lmfit.Parameters()\n",
    "par.add('k0',value=1/1.6,vary=True)        # this function has a lot of parameter, they can be named\n",
    "par.add('k1',value=1/0.4,vary=True)        # but a rate must be starting with \"k\" (this is how it is regognized)\n",
    "par.add('k2',value=1/6e11,vary=True)\n",
    "#par.add('f0',value=5)                     # add osciallation with this frequency\n",
    "#par.add('tk0',value=5)                    # (optional) add decay of osciallation\n",
    "\n",
    "par.add('t0',value=0.025,min=-2,max=2,vary=False)          # if applicable, keep those\n",
    "par.add('resolution',value=0.25,min=0.04,max=0.5,vary=False)\n",
    "#par.add('infinite')\n",
    "#par.add('background')\n",
    "#par.add('explicit_GS')                                   # add explicit background\n",
    "ta.par=par\n",
    "\n",
    "ta.Fit_Global()                                           # Fitting syntax stays the same"
   ]
  },
  {
   "cell_type": "code",
   "execution_count": null,
   "metadata": {},
   "outputs": [],
   "source": [
    "ta.Plot_fit_output()"
   ]
  },
  {
   "cell_type": "code",
   "execution_count": null,
   "metadata": {},
   "outputs": [],
   "source": [
    "ta.Save_Powerpoint()"
   ]
  },
  {
   "cell_type": "code",
   "execution_count": null,
   "metadata": {},
   "outputs": [],
   "source": [
    "ta.par=ta.fit_par #reuse the fitted parameter\n",
    "ta.Fit_Global(dump_paras=True)\n",
    "ta.Fit_Global(dump_shapes=True)"
   ]
  },
  {
   "cell_type": "markdown",
   "metadata": {},
   "source": []
  },
  {
   "cell_type": "code",
   "execution_count": null,
   "metadata": {},
   "outputs": [],
   "source": [
    "ds=pandas.read_csv('spectra.csv',index_col=0)\n",
    "ds.columns=['GS']\n",
    "ta.Fit_Global(ext_spectra=ds)\n",
    "\n",
    "ta.par.add('ext_spectra_shift',value=0,vary=True)\n",
    "ta.par.add('ext_spectra_scale',value=0,vary=True)\n",
    "\n",
    "ta.par.add('ext_spectra_guide',value=0,vary=True)"
   ]
  },
  {
   "cell_type": "markdown",
   "metadata": {},
   "source": [
    "### Optimise Chirp"
   ]
  },
  {
   "cell_type": "code",
   "execution_count": null,
   "metadata": {},
   "outputs": [],
   "source": [
    "ta1=ta.Copy() # before chirp fitting I recommend to \n",
    "ta1.Fit_Global(fit_chirp=True)"
   ]
  },
  {
   "cell_type": "markdown",
   "metadata": {},
   "source": [
    "### Error Analysis"
   ]
  },
  {
   "cell_type": "code",
   "execution_count": null,
   "metadata": {},
   "outputs": [],
   "source": [
    "ta.Fit_Global(confidence_level=0.95) "
   ]
  },
  {
   "cell_type": "markdown",
   "metadata": {},
   "source": [
    "### Fitting multiple datasets"
   ]
  },
  {
   "cell_type": "code",
   "execution_count": null,
   "metadata": {},
   "outputs": [],
   "source": [
    "ta1=pf.TA(filename='sample_2.hdf5',path='Data')          # lets load a single second project measured at a different power\n",
    "other_projects=[ta1]\n",
    "\n",
    "other_projects=[pf.TA(filename,path='Data') for filename in ['sample_2.hdf5','sample_3.hdf5']]\n",
    "\n",
    "other_projects=pf.GUI_open()"
   ]
  },
  {
   "cell_type": "code",
   "execution_count": null,
   "metadata": {},
   "outputs": [],
   "source": [
    "ta.Fit_Global(multi_project=other_projects)#fit both projects together,\n",
    "ta.Fit_Global(multi_project=other_projects,unique_parameter=['f0']) #unique parameter allows to additionally freeze a parameter (that e.g. were optimized b)\n",
    "ta.Fit_Global(multi_project=other_projects,unique_parameter=['f0'],weights=[1,2])\n",
    "ta.Fit_Global(multi_project=other_projects,same_DAS = True)"
   ]
  },
  {
   "cell_type": "markdown",
   "metadata": {},
   "source": [
    "### Using Global minimum search"
   ]
  },
  {
   "cell_type": "code",
   "execution_count": null,
   "metadata": {},
   "outputs": [],
   "source": [
    "plt.close('all')\n",
    "ta.mod=func.P12             # if you want to use function P12 from the standard function library\n",
    "par=lmfit.Parameters()\n",
    "par.add('k0',value=1/1.6,vary=True,min=1/4,max=1) \n",
    "par.add('k1',value=1/0.4,vary=True,min=1/4,max=1)          \n",
    "par.add('k2',value=1/6e11,vary=True,min=1/1e13,max=1)\n",
    "par.add('t0',value=0.025,min=-2,max=2,vary=False)\n",
    "par.add('resolution',value=0.25,min=0.04,max=0.5,vary=False)\n",
    "#par.add('background')\n",
    "#par.add('infinite')\n",
    "ta.par=par\n",
    "ta.Fit_Global(use_ampgo=True)                                           # Fitting syntax stays the same\n",
    "'''Sometimes this optimization runs into extremely small value that overflow the double precission \n",
    "(making a lot of warnings). As a temporary fix enable the following line that will turn of all warnings.\n",
    "as most likely these solutions will be rejected anyhow, this should not be a big problem. Alternative is to \n",
    "give more restrictive limits.'''\n",
    "#np.seterr(all=\"ignore\")"
   ]
  },
  {
   "cell_type": "markdown",
   "metadata": {},
   "source": [
    "### export the results as images and save the project"
   ]
  },
  {
   "cell_type": "code",
   "execution_count": null,
   "metadata": {},
   "outputs": [],
   "source": [
    "ta.Save_project()         # This saves the whole project including raw data, fits and chirp correction into a single file"
   ]
  },
  {
   "cell_type": "code",
   "execution_count": null,
   "metadata": {},
   "outputs": [],
   "source": [
    "ta.Save_Plots(savetype='png')         # This saves all the figures and a overview powerpoint savetype=['png','svg']"
   ]
  },
  {
   "cell_type": "markdown",
   "metadata": {},
   "source": [
    "### Sometimes required options applicable also to fit plotting"
   ]
  },
  {
   "cell_type": "code",
   "execution_count": null,
   "metadata": {},
   "outputs": [],
   "source": [
    "ta.Man_Chirp()                   # used to redo the chirp-correction\n",
    "ta.Save_data()                   # used to dump the Data and fits to disk\n",
    "\n",
    "ta.cmap=pf.cm.viridis            # use different colour scheme (can also be a list of colours)\n",
    "pf.changefonts(weight='bold',font='standard',SMALL_SIZE=11,MEDIUM_SIZE=13,LARGE_SIZE=18)       "
   ]
  }
 ],
 "metadata": {
  "ipub": {
   "titlepage": {
    "author": "Jens Uhlig",
    "email": "jens.uhlig@chemphys.lu.se",
    "logo": "http://www.jensuhlig.de//hot_warm_cold.png",
    "subtitle": "Main Worksheet",
    "title": "Transient Absorption Worksheet"
   }
  },
  "kernelspec": {
   "display_name": "Python 3 (ipykernel)",
   "language": "python",
   "name": "python3"
  },
  "language_info": {
   "codemirror_mode": {
    "name": "ipython",
    "version": 3
   },
   "file_extension": ".py",
   "mimetype": "text/x-python",
   "name": "python",
   "nbconvert_exporter": "python",
   "pygments_lexer": "ipython3",
   "version": "3.11.9"
  }
 },
 "nbformat": 4,
 "nbformat_minor": 4
}
